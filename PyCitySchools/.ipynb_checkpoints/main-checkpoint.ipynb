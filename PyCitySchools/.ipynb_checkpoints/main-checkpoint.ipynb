{
 "cells": [
  {
   "cell_type": "markdown",
   "metadata": {},
   "source": [
    "### THIS IS MY CLEANED FILE FOR CONVERSION TO A PYTHON FILE FOR SUBMITTAL."
   ]
  },
  {
   "cell_type": "code",
   "execution_count": 1,
   "metadata": {},
   "outputs": [],
   "source": [
    "# Dependencies and Setup\n",
    "import pandas as pd\n",
    "\n",
    "# File to Load (Remember to Change These)\n",
    "school_data_to_load = \"Resources/schools_complete.csv\"\n",
    "student_data_to_load = \"Resources/students_complete.csv\"\n",
    "\n",
    "# Read School and Student Data File and store into Pandas DataFrames\n",
    "school_data = pd.read_csv(school_data_to_load)\n",
    "student_data = pd.read_csv(student_data_to_load)\n",
    "\n",
    "# Combine the data into a single dataset.  \n",
    "school_data_complete = pd.merge(student_data, school_data, how=\"left\", on=[\"school_name\", \"school_name\"])"
   ]
  },
  {
   "cell_type": "markdown",
   "metadata": {},
   "source": [
    "## District Summary\n",
    "\n",
    "* Calculate the total number of schools\n",
    "\n",
    "* Calculate the total number of students\n",
    "\n",
    "* Calculate the total budget\n",
    "\n",
    "* Calculate the average math score \n",
    "\n",
    "* Calculate the average reading score\n",
    "\n",
    "* Calculate the percentage of students with a passing math score (70 or greater)\n",
    "\n",
    "* Calculate the percentage of students with a passing reading score (70 or greater)\n",
    "\n",
    "* Calculate the percentage of students who passed math **and** reading (% Overall Passing)\n",
    "\n",
    "* Create a dataframe to hold the above results\n",
    "\n",
    "* Optional: give the displayed data cleaner formatting"
   ]
  },
  {
   "cell_type": "markdown",
   "metadata": {},
   "source": [
    "#### THESE FIRST CODE BLOCKS ARE TO ANALYZE THE DATAFRAME CREATED FROM THE COMBINED CSVs."
   ]
  },
  {
   "cell_type": "code",
   "execution_count": 2,
   "metadata": {},
   "outputs": [
    {
     "data": {
      "text/html": [
       "<div>\n",
       "<style scoped>\n",
       "    .dataframe tbody tr th:only-of-type {\n",
       "        vertical-align: middle;\n",
       "    }\n",
       "\n",
       "    .dataframe tbody tr th {\n",
       "        vertical-align: top;\n",
       "    }\n",
       "\n",
       "    .dataframe thead th {\n",
       "        text-align: right;\n",
       "    }\n",
       "</style>\n",
       "<table border=\"1\" class=\"dataframe\">\n",
       "  <thead>\n",
       "    <tr style=\"text-align: right;\">\n",
       "      <th></th>\n",
       "      <th>Student ID</th>\n",
       "      <th>student_name</th>\n",
       "      <th>gender</th>\n",
       "      <th>grade</th>\n",
       "      <th>school_name</th>\n",
       "      <th>reading_score</th>\n",
       "      <th>math_score</th>\n",
       "      <th>School ID</th>\n",
       "      <th>type</th>\n",
       "      <th>size</th>\n",
       "      <th>budget</th>\n",
       "    </tr>\n",
       "  </thead>\n",
       "  <tbody>\n",
       "    <tr>\n",
       "      <th>0</th>\n",
       "      <td>0</td>\n",
       "      <td>Paul Bradley</td>\n",
       "      <td>M</td>\n",
       "      <td>9th</td>\n",
       "      <td>Huang High School</td>\n",
       "      <td>66</td>\n",
       "      <td>79</td>\n",
       "      <td>0</td>\n",
       "      <td>District</td>\n",
       "      <td>2917</td>\n",
       "      <td>1910635</td>\n",
       "    </tr>\n",
       "    <tr>\n",
       "      <th>1</th>\n",
       "      <td>1</td>\n",
       "      <td>Victor Smith</td>\n",
       "      <td>M</td>\n",
       "      <td>12th</td>\n",
       "      <td>Huang High School</td>\n",
       "      <td>94</td>\n",
       "      <td>61</td>\n",
       "      <td>0</td>\n",
       "      <td>District</td>\n",
       "      <td>2917</td>\n",
       "      <td>1910635</td>\n",
       "    </tr>\n",
       "    <tr>\n",
       "      <th>2</th>\n",
       "      <td>2</td>\n",
       "      <td>Kevin Rodriguez</td>\n",
       "      <td>M</td>\n",
       "      <td>12th</td>\n",
       "      <td>Huang High School</td>\n",
       "      <td>90</td>\n",
       "      <td>60</td>\n",
       "      <td>0</td>\n",
       "      <td>District</td>\n",
       "      <td>2917</td>\n",
       "      <td>1910635</td>\n",
       "    </tr>\n",
       "    <tr>\n",
       "      <th>3</th>\n",
       "      <td>3</td>\n",
       "      <td>Dr. Richard Scott</td>\n",
       "      <td>M</td>\n",
       "      <td>12th</td>\n",
       "      <td>Huang High School</td>\n",
       "      <td>67</td>\n",
       "      <td>58</td>\n",
       "      <td>0</td>\n",
       "      <td>District</td>\n",
       "      <td>2917</td>\n",
       "      <td>1910635</td>\n",
       "    </tr>\n",
       "    <tr>\n",
       "      <th>4</th>\n",
       "      <td>4</td>\n",
       "      <td>Bonnie Ray</td>\n",
       "      <td>F</td>\n",
       "      <td>9th</td>\n",
       "      <td>Huang High School</td>\n",
       "      <td>97</td>\n",
       "      <td>84</td>\n",
       "      <td>0</td>\n",
       "      <td>District</td>\n",
       "      <td>2917</td>\n",
       "      <td>1910635</td>\n",
       "    </tr>\n",
       "  </tbody>\n",
       "</table>\n",
       "</div>"
      ],
      "text/plain": [
       "   Student ID       student_name gender grade        school_name  \\\n",
       "0           0       Paul Bradley      M   9th  Huang High School   \n",
       "1           1       Victor Smith      M  12th  Huang High School   \n",
       "2           2    Kevin Rodriguez      M  12th  Huang High School   \n",
       "3           3  Dr. Richard Scott      M  12th  Huang High School   \n",
       "4           4         Bonnie Ray      F   9th  Huang High School   \n",
       "\n",
       "   reading_score  math_score  School ID      type  size   budget  \n",
       "0             66          79          0  District  2917  1910635  \n",
       "1             94          61          0  District  2917  1910635  \n",
       "2             90          60          0  District  2917  1910635  \n",
       "3             67          58          0  District  2917  1910635  \n",
       "4             97          84          0  District  2917  1910635  "
      ]
     },
     "execution_count": 2,
     "metadata": {},
     "output_type": "execute_result"
    }
   ],
   "source": [
    "school_data_complete.head() # to see columns"
   ]
  },
  {
   "cell_type": "code",
   "execution_count": 3,
   "metadata": {},
   "outputs": [
    {
     "data": {
      "text/html": [
       "<div>\n",
       "<style scoped>\n",
       "    .dataframe tbody tr th:only-of-type {\n",
       "        vertical-align: middle;\n",
       "    }\n",
       "\n",
       "    .dataframe tbody tr th {\n",
       "        vertical-align: top;\n",
       "    }\n",
       "\n",
       "    .dataframe thead th {\n",
       "        text-align: right;\n",
       "    }\n",
       "</style>\n",
       "<table border=\"1\" class=\"dataframe\">\n",
       "  <thead>\n",
       "    <tr style=\"text-align: right;\">\n",
       "      <th></th>\n",
       "      <th>Student ID</th>\n",
       "      <th>reading_score</th>\n",
       "      <th>math_score</th>\n",
       "      <th>School ID</th>\n",
       "      <th>size</th>\n",
       "      <th>budget</th>\n",
       "    </tr>\n",
       "  </thead>\n",
       "  <tbody>\n",
       "    <tr>\n",
       "      <th>count</th>\n",
       "      <td>39170.000000</td>\n",
       "      <td>39170.00000</td>\n",
       "      <td>39170.000000</td>\n",
       "      <td>39170.000000</td>\n",
       "      <td>39170.000000</td>\n",
       "      <td>3.917000e+04</td>\n",
       "    </tr>\n",
       "    <tr>\n",
       "      <th>mean</th>\n",
       "      <td>19584.500000</td>\n",
       "      <td>81.87784</td>\n",
       "      <td>78.985371</td>\n",
       "      <td>6.978172</td>\n",
       "      <td>3332.957110</td>\n",
       "      <td>2.117241e+06</td>\n",
       "    </tr>\n",
       "    <tr>\n",
       "      <th>std</th>\n",
       "      <td>11307.549359</td>\n",
       "      <td>10.23958</td>\n",
       "      <td>12.309968</td>\n",
       "      <td>4.444329</td>\n",
       "      <td>1323.914069</td>\n",
       "      <td>8.749987e+05</td>\n",
       "    </tr>\n",
       "    <tr>\n",
       "      <th>min</th>\n",
       "      <td>0.000000</td>\n",
       "      <td>63.00000</td>\n",
       "      <td>55.000000</td>\n",
       "      <td>0.000000</td>\n",
       "      <td>427.000000</td>\n",
       "      <td>2.480870e+05</td>\n",
       "    </tr>\n",
       "    <tr>\n",
       "      <th>25%</th>\n",
       "      <td>9792.250000</td>\n",
       "      <td>73.00000</td>\n",
       "      <td>69.000000</td>\n",
       "      <td>3.000000</td>\n",
       "      <td>1858.000000</td>\n",
       "      <td>1.081356e+06</td>\n",
       "    </tr>\n",
       "    <tr>\n",
       "      <th>50%</th>\n",
       "      <td>19584.500000</td>\n",
       "      <td>82.00000</td>\n",
       "      <td>79.000000</td>\n",
       "      <td>7.000000</td>\n",
       "      <td>2949.000000</td>\n",
       "      <td>1.910635e+06</td>\n",
       "    </tr>\n",
       "    <tr>\n",
       "      <th>75%</th>\n",
       "      <td>29376.750000</td>\n",
       "      <td>91.00000</td>\n",
       "      <td>89.000000</td>\n",
       "      <td>11.000000</td>\n",
       "      <td>4635.000000</td>\n",
       "      <td>3.022020e+06</td>\n",
       "    </tr>\n",
       "    <tr>\n",
       "      <th>max</th>\n",
       "      <td>39169.000000</td>\n",
       "      <td>99.00000</td>\n",
       "      <td>99.000000</td>\n",
       "      <td>14.000000</td>\n",
       "      <td>4976.000000</td>\n",
       "      <td>3.124928e+06</td>\n",
       "    </tr>\n",
       "  </tbody>\n",
       "</table>\n",
       "</div>"
      ],
      "text/plain": [
       "         Student ID  reading_score    math_score     School ID          size  \\\n",
       "count  39170.000000    39170.00000  39170.000000  39170.000000  39170.000000   \n",
       "mean   19584.500000       81.87784     78.985371      6.978172   3332.957110   \n",
       "std    11307.549359       10.23958     12.309968      4.444329   1323.914069   \n",
       "min        0.000000       63.00000     55.000000      0.000000    427.000000   \n",
       "25%     9792.250000       73.00000     69.000000      3.000000   1858.000000   \n",
       "50%    19584.500000       82.00000     79.000000      7.000000   2949.000000   \n",
       "75%    29376.750000       91.00000     89.000000     11.000000   4635.000000   \n",
       "max    39169.000000       99.00000     99.000000     14.000000   4976.000000   \n",
       "\n",
       "             budget  \n",
       "count  3.917000e+04  \n",
       "mean   2.117241e+06  \n",
       "std    8.749987e+05  \n",
       "min    2.480870e+05  \n",
       "25%    1.081356e+06  \n",
       "50%    1.910635e+06  \n",
       "75%    3.022020e+06  \n",
       "max    3.124928e+06  "
      ]
     },
     "execution_count": 3,
     "metadata": {},
     "output_type": "execute_result"
    }
   ],
   "source": [
    "school_data_complete.describe() # to see statistical information that can be used"
   ]
  },
  {
   "cell_type": "code",
   "execution_count": 4,
   "metadata": {},
   "outputs": [
    {
     "data": {
      "text/plain": [
       "15"
      ]
     },
     "execution_count": 4,
     "metadata": {},
     "output_type": "execute_result"
    }
   ],
   "source": [
    "school_data_complete[\"school_name\"].nunique() # https://www.geeksforgeeks.org/how-to-count-distinct-values-of-a-pandas-dataframe-column/\n",
    "# total number of schools"
   ]
  },
  {
   "cell_type": "code",
   "execution_count": 5,
   "metadata": {},
   "outputs": [
    {
     "data": {
      "text/plain": [
       "Bailey High School       4976\n",
       "Johnson High School      4761\n",
       "Hernandez High School    4635\n",
       "Rodriguez High School    3999\n",
       "Figueroa High School     2949\n",
       "Huang High School        2917\n",
       "Ford High School         2739\n",
       "Wilson High School       2283\n",
       "Cabrera High School      1858\n",
       "Wright High School       1800\n",
       "Shelton High School      1761\n",
       "Thomas High School       1635\n",
       "Griffin High School      1468\n",
       "Pena High School          962\n",
       "Holden High School        427\n",
       "Name: school_name, dtype: int64"
      ]
     },
     "execution_count": 5,
     "metadata": {},
     "output_type": "execute_result"
    }
   ],
   "source": [
    "school_data_complete[\"school_name\"].value_counts() # how many students at each school"
   ]
  },
  {
   "cell_type": "code",
   "execution_count": 6,
   "metadata": {},
   "outputs": [
    {
     "data": {
      "text/plain": [
       "39170"
      ]
     },
     "execution_count": 6,
     "metadata": {},
     "output_type": "execute_result"
    }
   ],
   "source": [
    "school_data_complete[\"school_name\"].value_counts().sum() # to verify total number of students"
   ]
  },
  {
   "cell_type": "markdown",
   "metadata": {},
   "source": [
    "#### Calculate the total number of schools.  ANSWER = 15"
   ]
  },
  {
   "cell_type": "code",
   "execution_count": 7,
   "metadata": {},
   "outputs": [
    {
     "data": {
      "text/plain": [
       "15"
      ]
     },
     "execution_count": 7,
     "metadata": {},
     "output_type": "execute_result"
    }
   ],
   "source": [
    "school_data_complete[\"School ID\"].nunique() # another way to get total number of schools"
   ]
  },
  {
   "cell_type": "code",
   "execution_count": 8,
   "metadata": {},
   "outputs": [
    {
     "data": {
      "text/plain": [
       "15"
      ]
     },
     "execution_count": 8,
     "metadata": {},
     "output_type": "execute_result"
    }
   ],
   "source": [
    "total_schools = school_data_complete[\"School ID\"].nunique() # to put into a variable name to add to summary dataframe\n",
    "total_schools"
   ]
  },
  {
   "cell_type": "markdown",
   "metadata": {},
   "source": [
    "#### Calculate the total number of students.  ANSWER = 39170"
   ]
  },
  {
   "cell_type": "code",
   "execution_count": 9,
   "metadata": {},
   "outputs": [
    {
     "data": {
      "text/plain": [
       "39170"
      ]
     },
     "execution_count": 9,
     "metadata": {},
     "output_type": "execute_result"
    }
   ],
   "source": [
    "school_data_complete[\"Student ID\"].nunique() # another way to get total students"
   ]
  },
  {
   "cell_type": "code",
   "execution_count": 10,
   "metadata": {},
   "outputs": [
    {
     "data": {
      "text/plain": [
       "39170"
      ]
     },
     "execution_count": 10,
     "metadata": {},
     "output_type": "execute_result"
    }
   ],
   "source": [
    "school_data_complete[\"Student ID\"].count() # checking to see if count works"
   ]
  },
  {
   "cell_type": "code",
   "execution_count": 11,
   "metadata": {},
   "outputs": [
    {
     "data": {
      "text/plain": [
       "39170"
      ]
     },
     "execution_count": 11,
     "metadata": {},
     "output_type": "execute_result"
    }
   ],
   "source": [
    "total_students = school_data_complete[\"Student ID\"].nunique() # to get into a variable to add to a summary dataframe\n",
    "total_students"
   ]
  },
  {
   "cell_type": "markdown",
   "metadata": {},
   "source": [
    "#### Calculate the total budget.  ANSWER  = $24,649,428.00"
   ]
  },
  {
   "cell_type": "code",
   "execution_count": 12,
   "metadata": {},
   "outputs": [
    {
     "data": {
      "text/plain": [
       "24649428"
      ]
     },
     "execution_count": 12,
     "metadata": {},
     "output_type": "execute_result"
    }
   ],
   "source": [
    "total_budget_amount = school_data_complete[\"budget\"].unique().sum().round(2) # total budget\n",
    "total_budget_amount"
   ]
  },
  {
   "cell_type": "code",
   "execution_count": 13,
   "metadata": {},
   "outputs": [
    {
     "data": {
      "text/plain": [
       "'$24,649,428.00'"
      ]
     },
     "execution_count": 13,
     "metadata": {},
     "output_type": "execute_result"
    }
   ],
   "source": [
    "# to round total budget\n",
    "total_budget = \"${:,.2f}\".format(total_budget_amount) # https://www.adamsmith.haus/python/answers/how-to-format-currency-in-python\n",
    "total_budget"
   ]
  },
  {
   "cell_type": "code",
   "execution_count": 14,
   "metadata": {
    "scrolled": true
   },
   "outputs": [
    {
     "data": {
      "text/plain": [
       "Student ID        int64\n",
       "student_name     object\n",
       "gender           object\n",
       "grade            object\n",
       "school_name      object\n",
       "reading_score     int64\n",
       "math_score        int64\n",
       "School ID         int64\n",
       "type             object\n",
       "size              int64\n",
       "budget            int64\n",
       "dtype: object"
      ]
     },
     "execution_count": 14,
     "metadata": {},
     "output_type": "execute_result"
    }
   ],
   "source": [
    "school_data_complete.dtypes  # I found I had to consistently keep track of datatypes."
   ]
  },
  {
   "cell_type": "markdown",
   "metadata": {},
   "source": [
    "#### I WANTED TO TRY DIFFERENT METHODS TO GET ROUNDED NUMBERS FOR THE COMPUTED RESULTS.\n",
    "#### HENCE METHOD 1 AND METHOD 2.  BOTH METHODS SHOW THE RESULTS IN THE REQUIRED FORMAT."
   ]
  },
  {
   "cell_type": "code",
   "execution_count": 15,
   "metadata": {},
   "outputs": [],
   "source": [
    "# Method 1 - using named variables for the rounded values"
   ]
  },
  {
   "cell_type": "markdown",
   "metadata": {},
   "source": [
    "#### Calculate the average math score.  ANSWER = 78.99"
   ]
  },
  {
   "cell_type": "code",
   "execution_count": 16,
   "metadata": {},
   "outputs": [
    {
     "data": {
      "text/plain": [
       "78.99"
      ]
     },
     "execution_count": 16,
     "metadata": {},
     "output_type": "execute_result"
    }
   ],
   "source": [
    "average_math = school_data_complete[\"math_score\"].mean()\n",
    "rounded_math_average = round(average_math,2)\n",
    "rounded_math_average"
   ]
  },
  {
   "cell_type": "markdown",
   "metadata": {},
   "source": [
    "#### Calculate the average reading score.  ANSWER = 81.88"
   ]
  },
  {
   "cell_type": "code",
   "execution_count": 17,
   "metadata": {},
   "outputs": [
    {
     "data": {
      "text/plain": [
       "81.88"
      ]
     },
     "execution_count": 17,
     "metadata": {},
     "output_type": "execute_result"
    }
   ],
   "source": [
    "average_reading = school_data_complete[\"reading_score\"].mean()\n",
    "rounded_reading_average = round(average_reading,2)\n",
    "rounded_reading_average"
   ]
  },
  {
   "cell_type": "markdown",
   "metadata": {},
   "source": [
    "#### THIS IS THE START OF CALCULATIONS TO Calculate the percentage of students with a passing math score (70 or greater)\n"
   ]
  },
  {
   "cell_type": "code",
   "execution_count": 18,
   "metadata": {},
   "outputs": [
    {
     "data": {
      "text/plain": [
       "29370"
      ]
     },
     "execution_count": 18,
     "metadata": {},
     "output_type": "execute_result"
    }
   ],
   "source": [
    "passed_math = (school_data_complete[\"math_score\"]>=70).sum() # https://stackoverflow.com/questions/50539880/python-count-dataframe-column-values-meeting-condition\n",
    "passed_math"
   ]
  },
  {
   "cell_type": "markdown",
   "metadata": {},
   "source": [
    "#### PERCENTAGE OF STUDENS WITH A PASSING MATH SCORE (70 OR GREATER) = 74.98"
   ]
  },
  {
   "cell_type": "code",
   "execution_count": 19,
   "metadata": {},
   "outputs": [
    {
     "data": {
      "text/plain": [
       "74.98"
      ]
     },
     "execution_count": 19,
     "metadata": {},
     "output_type": "execute_result"
    }
   ],
   "source": [
    "percent_passed_math = (((school_data_complete[\"math_score\"]>=70).sum())/total_students)*100\n",
    "rounded_percent_passed_math = round(percent_passed_math,2)\n",
    "rounded_percent_passed_math"
   ]
  },
  {
   "cell_type": "markdown",
   "metadata": {},
   "source": [
    "#### Calculate the percentage of students with a passing reading score (70 or greater).  ANSWER = 85.81\n",
    "\n"
   ]
  },
  {
   "cell_type": "code",
   "execution_count": 20,
   "metadata": {},
   "outputs": [
    {
     "data": {
      "text/plain": [
       "33610"
      ]
     },
     "execution_count": 20,
     "metadata": {},
     "output_type": "execute_result"
    }
   ],
   "source": [
    "passed_reading = (school_data_complete[\"reading_score\"]>=70).sum()\n",
    "passed_reading"
   ]
  },
  {
   "cell_type": "code",
   "execution_count": 21,
   "metadata": {},
   "outputs": [
    {
     "data": {
      "text/plain": [
       "85.81"
      ]
     },
     "execution_count": 21,
     "metadata": {},
     "output_type": "execute_result"
    }
   ],
   "source": [
    "percent_passed_reading = (((school_data_complete[\"reading_score\"]>=70).sum())/total_students)*100\n",
    "rounded_percent_passed_reading = round(percent_passed_reading,2)\n",
    "rounded_percent_passed_reading"
   ]
  },
  {
   "cell_type": "code",
   "execution_count": 22,
   "metadata": {},
   "outputs": [
    {
     "data": {
      "text/plain": [
       "25528"
      ]
     },
     "execution_count": 22,
     "metadata": {},
     "output_type": "execute_result"
    }
   ],
   "source": [
    "passed_both = ((school_data_complete[\"reading_score\"]>=70) & (school_data_complete[\"math_score\"]>=70)).sum()\n",
    "passed_both"
   ]
  },
  {
   "cell_type": "code",
   "execution_count": 23,
   "metadata": {},
   "outputs": [],
   "source": [
    "# one thing I noticed did not work\n",
    "# passed_both = (passed_math & passed_reading).sum() # this gave a wildly different amount (522)\n",
    "# also, this amount stayed in \"passed_both\" until I ran the code blocks again using the sum against the \"and\" of the dataframe columns"
   ]
  },
  {
   "cell_type": "markdown",
   "metadata": {},
   "source": [
    "#### Calculate the percentage of students who passed math **and** reading (% Overall Passing).  ANSWER = 65.17\n"
   ]
  },
  {
   "cell_type": "code",
   "execution_count": 24,
   "metadata": {},
   "outputs": [
    {
     "data": {
      "text/plain": [
       "65.17"
      ]
     },
     "execution_count": 24,
     "metadata": {},
     "output_type": "execute_result"
    }
   ],
   "source": [
    "percent_passed_both = (passed_both/total_students)*100\n",
    "rounded_percent_passed_both = round(percent_passed_both,2)\n",
    "rounded_percent_passed_both"
   ]
  },
  {
   "cell_type": "markdown",
   "metadata": {},
   "source": [
    "#### Create a dataframe to hold the above results\n"
   ]
  },
  {
   "cell_type": "code",
   "execution_count": 25,
   "metadata": {
    "scrolled": true
   },
   "outputs": [
    {
     "data": {
      "text/html": [
       "<div>\n",
       "<style scoped>\n",
       "    .dataframe tbody tr th:only-of-type {\n",
       "        vertical-align: middle;\n",
       "    }\n",
       "\n",
       "    .dataframe tbody tr th {\n",
       "        vertical-align: top;\n",
       "    }\n",
       "\n",
       "    .dataframe thead th {\n",
       "        text-align: right;\n",
       "    }\n",
       "</style>\n",
       "<table border=\"1\" class=\"dataframe\">\n",
       "  <thead>\n",
       "    <tr style=\"text-align: right;\">\n",
       "      <th></th>\n",
       "      <th>Total Schools</th>\n",
       "      <th>Total Students</th>\n",
       "      <th>Total Budget</th>\n",
       "      <th>Average Math Score</th>\n",
       "      <th>Average Reading Score</th>\n",
       "      <th>% Passing Math</th>\n",
       "      <th>% Passing Reading</th>\n",
       "      <th>% Overall Passing</th>\n",
       "    </tr>\n",
       "  </thead>\n",
       "  <tbody>\n",
       "    <tr>\n",
       "      <th>0</th>\n",
       "      <td>15</td>\n",
       "      <td>39170</td>\n",
       "      <td>$24,649,428.00</td>\n",
       "      <td>78.99</td>\n",
       "      <td>81.88</td>\n",
       "      <td>74.98</td>\n",
       "      <td>85.81</td>\n",
       "      <td>65.17</td>\n",
       "    </tr>\n",
       "  </tbody>\n",
       "</table>\n",
       "</div>"
      ],
      "text/plain": [
       "   Total Schools  Total Students    Total Budget  Average Math Score  \\\n",
       "0             15           39170  $24,649,428.00               78.99   \n",
       "\n",
       "   Average Reading Score  % Passing Math  % Passing Reading  % Overall Passing  \n",
       "0                  81.88           74.98              85.81              65.17  "
      ]
     },
     "execution_count": 25,
     "metadata": {},
     "output_type": "execute_result"
    }
   ],
   "source": [
    "summary = [{\"Total Schools\": total_schools, \"Total Students\":total_students,\n",
    "                                    \"Total Budget\":total_budget,\n",
    "                                    \"Average Math Score\": rounded_math_average,\n",
    "                                    \"Average Reading Score\": rounded_reading_average,\n",
    "                                    \"% Passing Math\": rounded_percent_passed_math,\n",
    "                                   \"% Passing Reading\": rounded_percent_passed_reading,\n",
    "                                   \"% Overall Passing\": rounded_percent_passed_both}]\n",
    "District_Summary_df = pd.DataFrame(summary)\n",
    "District_Summary_df"
   ]
  },
  {
   "cell_type": "code",
   "execution_count": 26,
   "metadata": {},
   "outputs": [],
   "source": [
    "# Method 2 - using built in functions to round values"
   ]
  },
  {
   "cell_type": "code",
   "execution_count": 27,
   "metadata": {},
   "outputs": [
    {
     "data": {
      "text/plain": [
       "78.99"
      ]
     },
     "execution_count": 27,
     "metadata": {},
     "output_type": "execute_result"
    }
   ],
   "source": [
    "average_math = school_data_complete[\"math_score\"].mean()\n",
    "round(average_math,2)"
   ]
  },
  {
   "cell_type": "code",
   "execution_count": 28,
   "metadata": {},
   "outputs": [
    {
     "data": {
      "text/plain": [
       "81.88"
      ]
     },
     "execution_count": 28,
     "metadata": {},
     "output_type": "execute_result"
    }
   ],
   "source": [
    "average_reading = school_data_complete[\"reading_score\"].mean()\n",
    "round(average_reading,2)"
   ]
  },
  {
   "cell_type": "code",
   "execution_count": 29,
   "metadata": {},
   "outputs": [
    {
     "data": {
      "text/plain": [
       "29370"
      ]
     },
     "execution_count": 29,
     "metadata": {},
     "output_type": "execute_result"
    }
   ],
   "source": [
    "passed_math = (school_data_complete[\"math_score\"]>=70).sum() # https://stackoverflow.com/questions/50539880/python-count-dataframe-column-values-meeting-condition\n",
    "passed_math"
   ]
  },
  {
   "cell_type": "code",
   "execution_count": 30,
   "metadata": {},
   "outputs": [
    {
     "data": {
      "text/plain": [
       "74.98"
      ]
     },
     "execution_count": 30,
     "metadata": {},
     "output_type": "execute_result"
    }
   ],
   "source": [
    "percent_passed_math = (((school_data_complete[\"math_score\"]>=70).sum())/total_students)*100\n",
    "round(percent_passed_math,2)"
   ]
  },
  {
   "cell_type": "code",
   "execution_count": 31,
   "metadata": {},
   "outputs": [
    {
     "data": {
      "text/plain": [
       "33610"
      ]
     },
     "execution_count": 31,
     "metadata": {},
     "output_type": "execute_result"
    }
   ],
   "source": [
    "passed_reading = (school_data_complete[\"reading_score\"]>=70).sum()\n",
    "passed_reading"
   ]
  },
  {
   "cell_type": "code",
   "execution_count": 32,
   "metadata": {},
   "outputs": [
    {
     "data": {
      "text/plain": [
       "85.81"
      ]
     },
     "execution_count": 32,
     "metadata": {},
     "output_type": "execute_result"
    }
   ],
   "source": [
    "percent_passed_reading = (((school_data_complete[\"reading_score\"]>=70).sum())/total_students)*100\n",
    "round(percent_passed_reading,2)"
   ]
  },
  {
   "cell_type": "code",
   "execution_count": 33,
   "metadata": {},
   "outputs": [
    {
     "data": {
      "text/plain": [
       "25528"
      ]
     },
     "execution_count": 33,
     "metadata": {},
     "output_type": "execute_result"
    }
   ],
   "source": [
    "passed_both = ((school_data_complete[\"reading_score\"]>=70) & (school_data_complete[\"math_score\"]>=70)).sum()\n",
    "passed_both"
   ]
  },
  {
   "cell_type": "code",
   "execution_count": 34,
   "metadata": {},
   "outputs": [
    {
     "data": {
      "text/plain": [
       "65.17"
      ]
     },
     "execution_count": 34,
     "metadata": {},
     "output_type": "execute_result"
    }
   ],
   "source": [
    "percent_passed_both = (passed_both/total_students)*100\n",
    "round(percent_passed_both,2)"
   ]
  },
  {
   "cell_type": "code",
   "execution_count": 35,
   "metadata": {
    "scrolled": false
   },
   "outputs": [
    {
     "data": {
      "text/html": [
       "<div>\n",
       "<style scoped>\n",
       "    .dataframe tbody tr th:only-of-type {\n",
       "        vertical-align: middle;\n",
       "    }\n",
       "\n",
       "    .dataframe tbody tr th {\n",
       "        vertical-align: top;\n",
       "    }\n",
       "\n",
       "    .dataframe thead th {\n",
       "        text-align: right;\n",
       "    }\n",
       "</style>\n",
       "<table border=\"1\" class=\"dataframe\">\n",
       "  <thead>\n",
       "    <tr style=\"text-align: right;\">\n",
       "      <th></th>\n",
       "      <th>Total Schools</th>\n",
       "      <th>Total Students</th>\n",
       "      <th>Total Budget</th>\n",
       "      <th>Average Math Score</th>\n",
       "      <th>Average Reading Score</th>\n",
       "      <th>% Passing Math</th>\n",
       "      <th>% Passing Reading</th>\n",
       "      <th>% Overall Passing</th>\n",
       "    </tr>\n",
       "  </thead>\n",
       "  <tbody>\n",
       "    <tr>\n",
       "      <th>0</th>\n",
       "      <td>15</td>\n",
       "      <td>39170</td>\n",
       "      <td>$24,649,428.00</td>\n",
       "      <td>78.99</td>\n",
       "      <td>81.88</td>\n",
       "      <td>74.98</td>\n",
       "      <td>85.81</td>\n",
       "      <td>65.17</td>\n",
       "    </tr>\n",
       "  </tbody>\n",
       "</table>\n",
       "</div>"
      ],
      "text/plain": [
       "   Total Schools  Total Students    Total Budget  Average Math Score  \\\n",
       "0             15           39170  $24,649,428.00               78.99   \n",
       "\n",
       "   Average Reading Score  % Passing Math  % Passing Reading  % Overall Passing  \n",
       "0                  81.88           74.98              85.81              65.17  "
      ]
     },
     "execution_count": 35,
     "metadata": {},
     "output_type": "execute_result"
    }
   ],
   "source": [
    "summary = [{\"Total Schools\": total_schools, \"Total Students\":total_students,\n",
    "                                    \"Total Budget\":total_budget,\n",
    "                                    \"Average Math Score\": round(average_math,2),\n",
    "                                    \"Average Reading Score\": round(average_reading,2),\n",
    "                                    \"% Passing Math\": round(percent_passed_math,2),\n",
    "                                   \"% Passing Reading\": round(percent_passed_reading,2),\n",
    "                                   \"% Overall Passing\": round(percent_passed_both,2)}]\n",
    "District_Summary_df = pd.DataFrame(summary)\n",
    "District_Summary_df"
   ]
  },
  {
   "cell_type": "markdown",
   "metadata": {},
   "source": [
    "# DATAFRAME TO SHOW THE DISTRICT SUMMARY"
   ]
  },
  {
   "cell_type": "code",
   "execution_count": 36,
   "metadata": {
    "scrolled": true
   },
   "outputs": [
    {
     "data": {
      "text/html": [
       "<div>\n",
       "<style scoped>\n",
       "    .dataframe tbody tr th:only-of-type {\n",
       "        vertical-align: middle;\n",
       "    }\n",
       "\n",
       "    .dataframe tbody tr th {\n",
       "        vertical-align: top;\n",
       "    }\n",
       "\n",
       "    .dataframe thead th {\n",
       "        text-align: right;\n",
       "    }\n",
       "</style>\n",
       "<table border=\"1\" class=\"dataframe\">\n",
       "  <thead>\n",
       "    <tr style=\"text-align: right;\">\n",
       "      <th></th>\n",
       "      <th>Total Students</th>\n",
       "      <th>Total Budget</th>\n",
       "      <th>Average Math Score</th>\n",
       "      <th>Average Reading Score</th>\n",
       "      <th>% Passing Math</th>\n",
       "      <th>% Passing Reading</th>\n",
       "      <th>% Overall Passing</th>\n",
       "    </tr>\n",
       "    <tr>\n",
       "      <th>Total Schools</th>\n",
       "      <th></th>\n",
       "      <th></th>\n",
       "      <th></th>\n",
       "      <th></th>\n",
       "      <th></th>\n",
       "      <th></th>\n",
       "      <th></th>\n",
       "    </tr>\n",
       "  </thead>\n",
       "  <tbody>\n",
       "    <tr>\n",
       "      <th>15</th>\n",
       "      <td>39170</td>\n",
       "      <td>$24,649,428.00</td>\n",
       "      <td>78.99</td>\n",
       "      <td>81.88</td>\n",
       "      <td>74.98</td>\n",
       "      <td>85.81</td>\n",
       "      <td>65.17</td>\n",
       "    </tr>\n",
       "  </tbody>\n",
       "</table>\n",
       "</div>"
      ],
      "text/plain": [
       "               Total Students    Total Budget  Average Math Score  \\\n",
       "Total Schools                                                       \n",
       "15                      39170  $24,649,428.00               78.99   \n",
       "\n",
       "               Average Reading Score  % Passing Math  % Passing Reading  \\\n",
       "Total Schools                                                             \n",
       "15                             81.88           74.98              85.81   \n",
       "\n",
       "               % Overall Passing  \n",
       "Total Schools                     \n",
       "15                         65.17  "
      ]
     },
     "execution_count": 36,
     "metadata": {},
     "output_type": "execute_result"
    }
   ],
   "source": [
    "District_Summary_df.set_index(\"Total Schools\") # to hide index - https://python-forum.io/thread-32275.html"
   ]
  },
  {
   "cell_type": "markdown",
   "metadata": {},
   "source": [
    "## STARTING SCHOOL SUMMARY"
   ]
  },
  {
   "cell_type": "code",
   "execution_count": 37,
   "metadata": {
    "scrolled": true
   },
   "outputs": [],
   "source": [
    "# school_data_complete.head() # ran output again to cut down on scrolling"
   ]
  },
  {
   "cell_type": "code",
   "execution_count": 38,
   "metadata": {
    "scrolled": true
   },
   "outputs": [],
   "source": [
    "# START of new dataframe so as not to affect the original.\n",
    "schools_df = school_data_complete\n",
    "# schools_df.head()"
   ]
  },
  {
   "cell_type": "code",
   "execution_count": 39,
   "metadata": {},
   "outputs": [],
   "source": [
    "# And made another copy of the copy to preserve datatypes.\n",
    "schools70_df1 = schools_df.copy(deep=False) # https://appdividend.com/2020/08/07/pandas-dataframe-copy/"
   ]
  },
  {
   "cell_type": "code",
   "execution_count": 40,
   "metadata": {},
   "outputs": [],
   "source": [
    "\n",
    "# schools70_df1.head()"
   ]
  },
  {
   "cell_type": "code",
   "execution_count": 41,
   "metadata": {},
   "outputs": [],
   "source": [
    "# math70 = schools70_df[\"math_score\"] >= 70\n",
    "# reading70 = schools70_df[\"reading_score\"] >= 70\n",
    "# both70 = schools70_df[(schools70_df[\"math_score\"] >= 70) & (schools70_df[\"reading_score\"] >= 70)]\n",
    "# these were initially used to clear error message in which >= was not recognized in groupby series and int. "
   ]
  },
  {
   "cell_type": "code",
   "execution_count": 42,
   "metadata": {},
   "outputs": [],
   "source": [
    "# ADDED THESE EXTRA COLUMNS BECAUSE THEY ARE USEFUL LATER ON WITH THE GROUPBY OPERATION."
   ]
  },
  {
   "cell_type": "code",
   "execution_count": 43,
   "metadata": {},
   "outputs": [],
   "source": [
    "schools70_df2 = schools70_df1.copy(deep=False)"
   ]
  },
  {
   "cell_type": "code",
   "execution_count": 44,
   "metadata": {},
   "outputs": [],
   "source": [
    "schools70_df2[\"math-over-70\"] = schools70_df2[\"math_score\"] >= 70"
   ]
  },
  {
   "cell_type": "code",
   "execution_count": 45,
   "metadata": {},
   "outputs": [],
   "source": [
    "schools70_df2[\"reading-over-70\"] = schools70_df2[\"reading_score\"] >= 70"
   ]
  },
  {
   "cell_type": "code",
   "execution_count": 46,
   "metadata": {},
   "outputs": [],
   "source": [
    "schools70_df2[\"both-over-70\"] = (schools70_df2[\"math_score\"] >= 70) & (schools70_df2[\"reading_score\"] >= 70)"
   ]
  },
  {
   "cell_type": "code",
   "execution_count": 47,
   "metadata": {
    "scrolled": true
   },
   "outputs": [],
   "source": [
    "schools70_df2.rename(columns={\"budget\": \"Total School Budget\", \"type\": \"School Type\",\n",
    "                              \"school_name\": \"School Name\", \"size\": \"Total Students\"}, inplace=True)\n",
    "# schools70_df2.head()\n",
    "# TO GET COLUMN NAMES IN THE DESIRED FORMAT."
   ]
  },
  {
   "cell_type": "code",
   "execution_count": 48,
   "metadata": {},
   "outputs": [],
   "source": [
    "# to keep track of the datatypes for budget columns\n",
    "# schools70_df2.dtypes"
   ]
  },
  {
   "cell_type": "code",
   "execution_count": 49,
   "metadata": {},
   "outputs": [],
   "source": [
    "schools70_df2[\"Per Student Budget\"] = schools70_df2[\"Total School Budget\"] / schools70_df2[\"Total Students\"]"
   ]
  },
  {
   "cell_type": "code",
   "execution_count": 50,
   "metadata": {
    "scrolled": true
   },
   "outputs": [],
   "source": [
    "# schools70_df2.head()"
   ]
  },
  {
   "cell_type": "code",
   "execution_count": 51,
   "metadata": {
    "scrolled": true
   },
   "outputs": [],
   "source": [
    "# TO MAKE SURE BUDGET DATATYPES REMAINED AS INT64 OR FLOAT64.\n",
    "# schools70_df2.dtypes "
   ]
  },
  {
   "cell_type": "code",
   "execution_count": 52,
   "metadata": {
    "scrolled": false
   },
   "outputs": [],
   "source": [
    "# before formatting on budget columns changes from float to object\n",
    "top_schools = schools70_df2.groupby([\"School Name\"])\n",
    "# THIS IS THE BEGINNING OF THE \"SCHOOL NAME\" BECOMING A PERSISTENT KEY.\n",
    "# top_schools.head() "
   ]
  },
  {
   "cell_type": "code",
   "execution_count": 53,
   "metadata": {
    "scrolled": false
   },
   "outputs": [],
   "source": [
    "# schools70_df2.dtypes"
   ]
  },
  {
   "cell_type": "code",
   "execution_count": 54,
   "metadata": {},
   "outputs": [],
   "source": [
    "# schools70_df2 to schools70_df3\n",
    "# to use when map format budgets into dollars\n",
    "schools70_df3 = schools70_df2.copy()\n",
    "# schools70_df3.dtypes"
   ]
  },
  {
   "cell_type": "code",
   "execution_count": 55,
   "metadata": {
    "scrolled": true
   },
   "outputs": [],
   "source": [
    "schools70_df3[\"Total School Budget\"] = schools70_df3[\"Total School Budget\"].map('${:,.2f}'.format)\n",
    "schools70_df3[\"Per Student Budget\"] = schools70_df3[\"Per Student Budget\"].map('${:,.2f}'.format)\n",
    "# schools70_df3.head()"
   ]
  },
  {
   "cell_type": "code",
   "execution_count": 56,
   "metadata": {},
   "outputs": [],
   "source": [
    "# budget columns datatypes have changed to object\n",
    "# schools70_df3.dtypes"
   ]
  },
  {
   "cell_type": "code",
   "execution_count": 57,
   "metadata": {
    "scrolled": true
   },
   "outputs": [],
   "source": [
    "# new groupby after formatting on budget columns changes from float to object\n",
    "top_schools1 = schools70_df3.groupby([\"School Name\"])\n",
    "# top_schools1.head() "
   ]
  },
  {
   "cell_type": "code",
   "execution_count": 58,
   "metadata": {},
   "outputs": [],
   "source": [
    "# top_schools1 did nothing to group columns, but it kept the key at \"School Name\"\n",
    "# This aided with calculates run after the groupby."
   ]
  },
  {
   "cell_type": "code",
   "execution_count": 59,
   "metadata": {},
   "outputs": [],
   "source": [
    "# NOTE! NOTE! NOTE! Left all the rest of the calculations with\n",
    "# top_schools in place.  Have not changed to top_schools1 yet.\n",
    "# Will probably need to use top_schools1 for \"School Summary\" portion.\n",
    "# FIXED"
   ]
  },
  {
   "cell_type": "code",
   "execution_count": 60,
   "metadata": {},
   "outputs": [],
   "source": [
    "# schools70_df2.head()"
   ]
  },
  {
   "cell_type": "code",
   "execution_count": 61,
   "metadata": {},
   "outputs": [],
   "source": [
    "\n",
    "# schools70_df2[\"math_score\"].head()"
   ]
  },
  {
   "cell_type": "code",
   "execution_count": 62,
   "metadata": {},
   "outputs": [
    {
     "data": {
      "text/plain": [
       "78.99"
      ]
     },
     "execution_count": 62,
     "metadata": {},
     "output_type": "execute_result"
    }
   ],
   "source": [
    "math_test1 = round(schools70_df2[\"math_score\"].mean(),2)\n",
    "# IT MATTERS WHICH DATAFRAME IS BEING REFERENCED NOW, WHETHER THE KEY IS PICKED UP OR NOT.\n",
    "# SINCE DF IS schools70_df2, THE RESULTS OF math_test1 DON'T SHOW AGAINST EACH SCHOOL NAME LIKE THEY ARE\n",
    "# GROUPBY DATAFRAME (top_schools1) IS USED.\n",
    "#  Hence, the single value result versus the 15 results when the groupby key \"School Name\" is active.\n",
    "# As shown in the next code block.\n",
    "math_test1"
   ]
  },
  {
   "cell_type": "markdown",
   "metadata": {},
   "source": [
    "### START OF ALL CALCULATIONS NEEDED FOR SCHOOL SUMMARY RESULTS"
   ]
  },
  {
   "cell_type": "code",
   "execution_count": 63,
   "metadata": {
    "scrolled": false
   },
   "outputs": [
    {
     "data": {
      "text/plain": [
       "School Name\n",
       "Bailey High School       77.05\n",
       "Cabrera High School      83.06\n",
       "Figueroa High School     76.71\n",
       "Ford High School         77.10\n",
       "Griffin High School      83.35\n",
       "Hernandez High School    77.29\n",
       "Holden High School       83.80\n",
       "Huang High School        76.63\n",
       "Johnson High School      77.07\n",
       "Pena High School         83.84\n",
       "Rodriguez High School    76.84\n",
       "Shelton High School      83.36\n",
       "Thomas High School       83.42\n",
       "Wilson High School       83.27\n",
       "Wright High School       83.68\n",
       "Name: math_score, dtype: float64"
      ]
     },
     "execution_count": 63,
     "metadata": {},
     "output_type": "execute_result"
    }
   ],
   "source": [
    "math = round(top_schools1[\"math_score\"].mean(),2)\n",
    "math"
   ]
  },
  {
   "cell_type": "code",
   "execution_count": 64,
   "metadata": {
    "scrolled": true
   },
   "outputs": [
    {
     "data": {
      "text/plain": [
       "School Name\n",
       "Bailey High School       81.03\n",
       "Cabrera High School      83.98\n",
       "Figueroa High School     81.16\n",
       "Ford High School         80.75\n",
       "Griffin High School      83.82\n",
       "Hernandez High School    80.93\n",
       "Holden High School       83.81\n",
       "Huang High School        81.18\n",
       "Johnson High School      80.97\n",
       "Pena High School         84.04\n",
       "Rodriguez High School    80.74\n",
       "Shelton High School      83.73\n",
       "Thomas High School       83.85\n",
       "Wilson High School       83.99\n",
       "Wright High School       83.96\n",
       "Name: reading_score, dtype: float64"
      ]
     },
     "execution_count": 64,
     "metadata": {},
     "output_type": "execute_result"
    }
   ],
   "source": [
    "reading = round(top_schools1[\"reading_score\"].mean(),2)\n",
    "reading"
   ]
  },
  {
   "cell_type": "code",
   "execution_count": 65,
   "metadata": {
    "scrolled": true
   },
   "outputs": [
    {
     "data": {
      "text/plain": [
       "School Name\n",
       "Bailey High School       4976\n",
       "Cabrera High School      1858\n",
       "Figueroa High School     2949\n",
       "Ford High School         2739\n",
       "Griffin High School      1468\n",
       "Hernandez High School    4635\n",
       "Holden High School        427\n",
       "Huang High School        2917\n",
       "Johnson High School      4761\n",
       "Pena High School          962\n",
       "Rodriguez High School    3999\n",
       "Shelton High School      1761\n",
       "Thomas High School       1635\n",
       "Wilson High School       2283\n",
       "Wright High School       1800\n",
       "Name: Student ID, dtype: int64"
      ]
     },
     "execution_count": 65,
     "metadata": {},
     "output_type": "execute_result"
    }
   ],
   "source": [
    "top_schools_total_students = top_schools1[\"Student ID\"].nunique()\n",
    "top_schools_total_students"
   ]
  },
  {
   "cell_type": "code",
   "execution_count": 66,
   "metadata": {
    "scrolled": true
   },
   "outputs": [
    {
     "data": {
      "text/plain": [
       "School Name\n",
       "Bailey High School       3318\n",
       "Cabrera High School      1749\n",
       "Figueroa High School     1946\n",
       "Ford High School         1871\n",
       "Griffin High School      1371\n",
       "Hernandez High School    3094\n",
       "Holden High School        395\n",
       "Huang High School        1916\n",
       "Johnson High School      3145\n",
       "Pena High School          910\n",
       "Rodriguez High School    2654\n",
       "Shelton High School      1653\n",
       "Thomas High School       1525\n",
       "Wilson High School       2143\n",
       "Wright High School       1680\n",
       "Name: math-over-70, dtype: int64"
      ]
     },
     "execution_count": 66,
     "metadata": {},
     "output_type": "execute_result"
    }
   ],
   "source": [
    "sum_math70 = top_schools1[\"math-over-70\"].sum()\n",
    "sum_math70"
   ]
  },
  {
   "cell_type": "code",
   "execution_count": 67,
   "metadata": {
    "scrolled": true
   },
   "outputs": [
    {
     "data": {
      "text/plain": [
       "School Name\n",
       "Bailey High School       4976\n",
       "Cabrera High School      1858\n",
       "Figueroa High School     2949\n",
       "Ford High School         2739\n",
       "Griffin High School      1468\n",
       "Hernandez High School    4635\n",
       "Holden High School        427\n",
       "Huang High School        2917\n",
       "Johnson High School      4761\n",
       "Pena High School          962\n",
       "Rodriguez High School    3999\n",
       "Shelton High School      1761\n",
       "Thomas High School       1635\n",
       "Wilson High School       2283\n",
       "Wright High School       1800\n",
       "Name: Total Students, dtype: int64"
      ]
     },
     "execution_count": 67,
     "metadata": {},
     "output_type": "execute_result"
    }
   ],
   "source": [
    "total_students_top_schools = top_schools1[\"Total Students\"]\n",
    "total_students_top_schools.count()"
   ]
  },
  {
   "cell_type": "code",
   "execution_count": 68,
   "metadata": {
    "scrolled": true
   },
   "outputs": [
    {
     "data": {
      "text/plain": [
       "School Name\n",
       "Bailey High School       66.68\n",
       "Cabrera High School      94.13\n",
       "Figueroa High School     65.99\n",
       "Ford High School         68.31\n",
       "Griffin High School      93.39\n",
       "Hernandez High School    66.75\n",
       "Holden High School       92.51\n",
       "Huang High School        65.68\n",
       "Johnson High School      66.06\n",
       "Pena High School         94.59\n",
       "Rodriguez High School    66.37\n",
       "Shelton High School      93.87\n",
       "Thomas High School       93.27\n",
       "Wilson High School       93.87\n",
       "Wright High School       93.33\n",
       "dtype: float64"
      ]
     },
     "execution_count": 68,
     "metadata": {},
     "output_type": "execute_result"
    }
   ],
   "source": [
    "top_school_percent_passed_math = (sum_math70 / (total_students_top_schools.count()) * 100)\n",
    "math_percent = round(top_school_percent_passed_math, 2)\n",
    "math_percent"
   ]
  },
  {
   "cell_type": "code",
   "execution_count": 69,
   "metadata": {
    "scrolled": true
   },
   "outputs": [
    {
     "data": {
      "text/plain": [
       "School Name\n",
       "Bailey High School       4077\n",
       "Cabrera High School      1803\n",
       "Figueroa High School     2381\n",
       "Ford High School         2172\n",
       "Griffin High School      1426\n",
       "Hernandez High School    3748\n",
       "Holden High School        411\n",
       "Huang High School        2372\n",
       "Johnson High School      3867\n",
       "Pena High School          923\n",
       "Rodriguez High School    3208\n",
       "Shelton High School      1688\n",
       "Thomas High School       1591\n",
       "Wilson High School       2204\n",
       "Wright High School       1739\n",
       "Name: reading-over-70, dtype: int64"
      ]
     },
     "execution_count": 69,
     "metadata": {},
     "output_type": "execute_result"
    }
   ],
   "source": [
    "sum_reading70 = top_schools1[\"reading-over-70\"].sum()\n",
    "sum_reading70"
   ]
  },
  {
   "cell_type": "code",
   "execution_count": 70,
   "metadata": {
    "scrolled": true
   },
   "outputs": [
    {
     "data": {
      "text/plain": [
       "School Name\n",
       "Bailey High School       81.93\n",
       "Cabrera High School      97.04\n",
       "Figueroa High School     80.74\n",
       "Ford High School         79.30\n",
       "Griffin High School      97.14\n",
       "Hernandez High School    80.86\n",
       "Holden High School       96.25\n",
       "Huang High School        81.32\n",
       "Johnson High School      81.22\n",
       "Pena High School         95.95\n",
       "Rodriguez High School    80.22\n",
       "Shelton High School      95.85\n",
       "Thomas High School       97.31\n",
       "Wilson High School       96.54\n",
       "Wright High School       96.61\n",
       "dtype: float64"
      ]
     },
     "execution_count": 70,
     "metadata": {},
     "output_type": "execute_result"
    }
   ],
   "source": [
    "top_school_percent_passed_reading = (sum_reading70 / (total_students_top_schools.count()) * 100)\n",
    "reading_percent = round(top_school_percent_passed_reading, 2)\n",
    "reading_percent"
   ]
  },
  {
   "cell_type": "code",
   "execution_count": 71,
   "metadata": {
    "scrolled": true
   },
   "outputs": [
    {
     "data": {
      "text/plain": [
       "School Name\n",
       "Bailey High School       2719\n",
       "Cabrera High School      1697\n",
       "Figueroa High School     1569\n",
       "Ford High School         1487\n",
       "Griffin High School      1330\n",
       "Hernandez High School    2481\n",
       "Holden High School        381\n",
       "Huang High School        1561\n",
       "Johnson High School      2549\n",
       "Pena High School          871\n",
       "Rodriguez High School    2119\n",
       "Shelton High School      1583\n",
       "Thomas High School       1487\n",
       "Wilson High School       2068\n",
       "Wright High School       1626\n",
       "Name: both-over-70, dtype: int64"
      ]
     },
     "execution_count": 71,
     "metadata": {},
     "output_type": "execute_result"
    }
   ],
   "source": [
    "sum_both70 = top_schools1[\"both-over-70\"].sum()\n",
    "sum_both70"
   ]
  },
  {
   "cell_type": "code",
   "execution_count": 72,
   "metadata": {},
   "outputs": [
    {
     "data": {
      "text/plain": [
       "School Name\n",
       "Bailey High School       54.64\n",
       "Cabrera High School      91.33\n",
       "Figueroa High School     53.20\n",
       "Ford High School         54.29\n",
       "Griffin High School      90.60\n",
       "Hernandez High School    53.53\n",
       "Holden High School       89.23\n",
       "Huang High School        53.51\n",
       "Johnson High School      53.54\n",
       "Pena High School         90.54\n",
       "Rodriguez High School    52.99\n",
       "Shelton High School      89.89\n",
       "Thomas High School       90.95\n",
       "Wilson High School       90.58\n",
       "Wright High School       90.33\n",
       "dtype: float64"
      ]
     },
     "execution_count": 72,
     "metadata": {},
     "output_type": "execute_result"
    }
   ],
   "source": [
    "top_school_percent_passed_both = (sum_both70 / (total_students_top_schools.count()) * 100)\n",
    "overall_percent = round(top_school_percent_passed_both, 2)\n",
    "overall_percent"
   ]
  },
  {
   "cell_type": "code",
   "execution_count": 73,
   "metadata": {
    "scrolled": false
   },
   "outputs": [
    {
     "data": {
      "text/plain": [
       "School Name            Per Student Budget\n",
       "Bailey High School     $628.00               4976\n",
       "Cabrera High School    $582.00               1858\n",
       "Figueroa High School   $639.00               2949\n",
       "Ford High School       $644.00               2739\n",
       "Griffin High School    $625.00               1468\n",
       "Hernandez High School  $652.00               4635\n",
       "Holden High School     $581.00                427\n",
       "Huang High School      $655.00               2917\n",
       "Johnson High School    $650.00               4761\n",
       "Pena High School       $609.00                962\n",
       "Rodriguez High School  $637.00               3999\n",
       "Shelton High School    $600.00               1761\n",
       "Thomas High School     $638.00               1635\n",
       "Wilson High School     $578.00               2283\n",
       "Wright High School     $583.00               1800\n",
       "Name: Per Student Budget, dtype: int64"
      ]
     },
     "execution_count": 73,
     "metadata": {},
     "output_type": "execute_result"
    }
   ],
   "source": [
    "# converted entire \"budget\" column too soon, and this caused formula to not work.\n",
    "# Needed both \"size\" and \"budget\" to be int64 dtypes\n",
    "# This forced me to go back and redo dataframes and new groupby with key \"School Name\" to preserve datatypes\n",
    "# DON'T DO FORMATTING UNTIL ALL CALCULATIONS ARE DONE!\n",
    "per_student_budget = top_schools1[\"Per Student Budget\"]\n",
    "per_student_budget.value_counts()                                                        "
   ]
  },
  {
   "cell_type": "code",
   "execution_count": 74,
   "metadata": {},
   "outputs": [
    {
     "data": {
      "text/plain": [
       "School Name\n",
       "Bailey High School       [District]\n",
       "Cabrera High School       [Charter]\n",
       "Figueroa High School     [District]\n",
       "Ford High School         [District]\n",
       "Griffin High School       [Charter]\n",
       "Hernandez High School    [District]\n",
       "Holden High School        [Charter]\n",
       "Huang High School        [District]\n",
       "Johnson High School      [District]\n",
       "Pena High School          [Charter]\n",
       "Rodriguez High School    [District]\n",
       "Shelton High School       [Charter]\n",
       "Thomas High School        [Charter]\n",
       "Wilson High School        [Charter]\n",
       "Wright High School        [Charter]\n",
       "Name: School Type, dtype: object"
      ]
     },
     "execution_count": 74,
     "metadata": {},
     "output_type": "execute_result"
    }
   ],
   "source": [
    "top_schools_type = top_schools1[\"School Type\"].unique()\n",
    "#top_schools_type.value_counts()\n",
    "top_schools_type"
   ]
  },
  {
   "cell_type": "code",
   "execution_count": 75,
   "metadata": {
    "scrolled": true
   },
   "outputs": [
    {
     "data": {
      "text/plain": [
       "School Name\n",
       "Bailey High School          [Bailey High School]\n",
       "Cabrera High School        [Cabrera High School]\n",
       "Figueroa High School      [Figueroa High School]\n",
       "Ford High School              [Ford High School]\n",
       "Griffin High School        [Griffin High School]\n",
       "Hernandez High School    [Hernandez High School]\n",
       "Holden High School          [Holden High School]\n",
       "Huang High School            [Huang High School]\n",
       "Johnson High School        [Johnson High School]\n",
       "Pena High School              [Pena High School]\n",
       "Rodriguez High School    [Rodriguez High School]\n",
       "Shelton High School        [Shelton High School]\n",
       "Thomas High School          [Thomas High School]\n",
       "Wilson High School          [Wilson High School]\n",
       "Wright High School          [Wright High School]\n",
       "Name: School Name, dtype: object"
      ]
     },
     "execution_count": 75,
     "metadata": {},
     "output_type": "execute_result"
    }
   ],
   "source": [
    "top_schools_name = top_schools1[\"School Name\"].unique()\n",
    "# top_schools_name.value_counts()\n",
    "top_schools_name"
   ]
  },
  {
   "cell_type": "code",
   "execution_count": 76,
   "metadata": {
    "scrolled": false
   },
   "outputs": [
    {
     "data": {
      "text/plain": [
       "School Name           Total School Budget\n",
       "Bailey High School    $3,124,928.00          4976\n",
       "Cabrera High School   $1,081,356.00          1858\n",
       "Figueroa High School  $1,884,411.00          2949\n",
       "Ford High School      $1,763,916.00          2739\n",
       "Griffin High School   $917,500.00            1468\n",
       "Name: Total School Budget, dtype: int64"
      ]
     },
     "execution_count": 76,
     "metadata": {},
     "output_type": "execute_result"
    }
   ],
   "source": [
    "budget_top_schools = top_schools1[\"Total School Budget\"]\n",
    "# formatted_total_budget = budget_top_schools.unique()\n",
    "formatted_total_budget = budget_top_schools.value_counts()\n",
    "formatted_total_budget.head()"
   ]
  },
  {
   "cell_type": "code",
   "execution_count": 77,
   "metadata": {
    "scrolled": true
   },
   "outputs": [],
   "source": [
    "# top_schools1.head()"
   ]
  },
  {
   "cell_type": "code",
   "execution_count": 78,
   "metadata": {},
   "outputs": [
    {
     "data": {
      "text/plain": [
       "School Name\n",
       "Bailey High School       4976\n",
       "Cabrera High School      1858\n",
       "Figueroa High School     2949\n",
       "Ford High School         2739\n",
       "Griffin High School      1468\n",
       "Hernandez High School    4635\n",
       "Holden High School        427\n",
       "Huang High School        2917\n",
       "Johnson High School      4761\n",
       "Pena High School          962\n",
       "Rodriguez High School    3999\n",
       "Shelton High School      1761\n",
       "Thomas High School       1635\n",
       "Wilson High School       2283\n",
       "Wright High School       1800\n",
       "Name: School Name, dtype: int64"
      ]
     },
     "execution_count": 78,
     "metadata": {},
     "output_type": "execute_result"
    }
   ],
   "source": [
    "top_schools1[\"School Name\"].count()"
   ]
  },
  {
   "cell_type": "code",
   "execution_count": 79,
   "metadata": {},
   "outputs": [],
   "source": [
    "# top_schools1.nunique()"
   ]
  },
  {
   "cell_type": "code",
   "execution_count": 80,
   "metadata": {},
   "outputs": [],
   "source": [
    "# \"School Name\": top_schools_name.unique(),\n",
    "# \"Total School Budget\": formatted_total_budget\n",
    "# budget_top_schools.value_counts()"
   ]
  },
  {
   "cell_type": "markdown",
   "metadata": {},
   "source": [
    "## SCHOOL SUMMARY RESULTS DATAFRAME"
   ]
  },
  {
   "cell_type": "code",
   "execution_count": 81,
   "metadata": {
    "scrolled": true
   },
   "outputs": [],
   "source": [
    "schools_summary_df = pd.DataFrame({\n",
    "                                   \"School Type\": top_schools_type,\n",
    "                                   \"Total Students\": total_students_top_schools.count(),\n",
    "                                   \"Total School Budget\": budget_top_schools.unique()\n",
    "                                  })"
   ]
  },
  {
   "cell_type": "code",
   "execution_count": 82,
   "metadata": {},
   "outputs": [
    {
     "data": {
      "text/html": [
       "<div>\n",
       "<style scoped>\n",
       "    .dataframe tbody tr th:only-of-type {\n",
       "        vertical-align: middle;\n",
       "    }\n",
       "\n",
       "    .dataframe tbody tr th {\n",
       "        vertical-align: top;\n",
       "    }\n",
       "\n",
       "    .dataframe thead th {\n",
       "        text-align: right;\n",
       "    }\n",
       "</style>\n",
       "<table border=\"1\" class=\"dataframe\">\n",
       "  <thead>\n",
       "    <tr style=\"text-align: right;\">\n",
       "      <th></th>\n",
       "      <th>School Type</th>\n",
       "      <th>Total Students</th>\n",
       "      <th>Total School Budget</th>\n",
       "      <th>Per Student Budget</th>\n",
       "      <th>Average Math Score</th>\n",
       "      <th>Average Reading Score</th>\n",
       "      <th>% Passing Math</th>\n",
       "      <th>% Passing Reading</th>\n",
       "      <th>% Overall Passing</th>\n",
       "    </tr>\n",
       "    <tr>\n",
       "      <th>School Name</th>\n",
       "      <th></th>\n",
       "      <th></th>\n",
       "      <th></th>\n",
       "      <th></th>\n",
       "      <th></th>\n",
       "      <th></th>\n",
       "      <th></th>\n",
       "      <th></th>\n",
       "      <th></th>\n",
       "    </tr>\n",
       "  </thead>\n",
       "  <tbody>\n",
       "    <tr>\n",
       "      <th>Bailey High School</th>\n",
       "      <td>[District]</td>\n",
       "      <td>4976</td>\n",
       "      <td>[$3,124,928.00]</td>\n",
       "      <td>[$628.00]</td>\n",
       "      <td>77.05</td>\n",
       "      <td>81.03</td>\n",
       "      <td>66.68</td>\n",
       "      <td>81.93</td>\n",
       "      <td>54.64</td>\n",
       "    </tr>\n",
       "    <tr>\n",
       "      <th>Cabrera High School</th>\n",
       "      <td>[Charter]</td>\n",
       "      <td>1858</td>\n",
       "      <td>[$1,081,356.00]</td>\n",
       "      <td>[$582.00]</td>\n",
       "      <td>83.06</td>\n",
       "      <td>83.98</td>\n",
       "      <td>94.13</td>\n",
       "      <td>97.04</td>\n",
       "      <td>91.33</td>\n",
       "    </tr>\n",
       "    <tr>\n",
       "      <th>Figueroa High School</th>\n",
       "      <td>[District]</td>\n",
       "      <td>2949</td>\n",
       "      <td>[$1,884,411.00]</td>\n",
       "      <td>[$639.00]</td>\n",
       "      <td>76.71</td>\n",
       "      <td>81.16</td>\n",
       "      <td>65.99</td>\n",
       "      <td>80.74</td>\n",
       "      <td>53.20</td>\n",
       "    </tr>\n",
       "    <tr>\n",
       "      <th>Ford High School</th>\n",
       "      <td>[District]</td>\n",
       "      <td>2739</td>\n",
       "      <td>[$1,763,916.00]</td>\n",
       "      <td>[$644.00]</td>\n",
       "      <td>77.10</td>\n",
       "      <td>80.75</td>\n",
       "      <td>68.31</td>\n",
       "      <td>79.30</td>\n",
       "      <td>54.29</td>\n",
       "    </tr>\n",
       "    <tr>\n",
       "      <th>Griffin High School</th>\n",
       "      <td>[Charter]</td>\n",
       "      <td>1468</td>\n",
       "      <td>[$917,500.00]</td>\n",
       "      <td>[$625.00]</td>\n",
       "      <td>83.35</td>\n",
       "      <td>83.82</td>\n",
       "      <td>93.39</td>\n",
       "      <td>97.14</td>\n",
       "      <td>90.60</td>\n",
       "    </tr>\n",
       "    <tr>\n",
       "      <th>Hernandez High School</th>\n",
       "      <td>[District]</td>\n",
       "      <td>4635</td>\n",
       "      <td>[$3,022,020.00]</td>\n",
       "      <td>[$652.00]</td>\n",
       "      <td>77.29</td>\n",
       "      <td>80.93</td>\n",
       "      <td>66.75</td>\n",
       "      <td>80.86</td>\n",
       "      <td>53.53</td>\n",
       "    </tr>\n",
       "    <tr>\n",
       "      <th>Holden High School</th>\n",
       "      <td>[Charter]</td>\n",
       "      <td>427</td>\n",
       "      <td>[$248,087.00]</td>\n",
       "      <td>[$581.00]</td>\n",
       "      <td>83.80</td>\n",
       "      <td>83.81</td>\n",
       "      <td>92.51</td>\n",
       "      <td>96.25</td>\n",
       "      <td>89.23</td>\n",
       "    </tr>\n",
       "    <tr>\n",
       "      <th>Huang High School</th>\n",
       "      <td>[District]</td>\n",
       "      <td>2917</td>\n",
       "      <td>[$1,910,635.00]</td>\n",
       "      <td>[$655.00]</td>\n",
       "      <td>76.63</td>\n",
       "      <td>81.18</td>\n",
       "      <td>65.68</td>\n",
       "      <td>81.32</td>\n",
       "      <td>53.51</td>\n",
       "    </tr>\n",
       "    <tr>\n",
       "      <th>Johnson High School</th>\n",
       "      <td>[District]</td>\n",
       "      <td>4761</td>\n",
       "      <td>[$3,094,650.00]</td>\n",
       "      <td>[$650.00]</td>\n",
       "      <td>77.07</td>\n",
       "      <td>80.97</td>\n",
       "      <td>66.06</td>\n",
       "      <td>81.22</td>\n",
       "      <td>53.54</td>\n",
       "    </tr>\n",
       "    <tr>\n",
       "      <th>Pena High School</th>\n",
       "      <td>[Charter]</td>\n",
       "      <td>962</td>\n",
       "      <td>[$585,858.00]</td>\n",
       "      <td>[$609.00]</td>\n",
       "      <td>83.84</td>\n",
       "      <td>84.04</td>\n",
       "      <td>94.59</td>\n",
       "      <td>95.95</td>\n",
       "      <td>90.54</td>\n",
       "    </tr>\n",
       "    <tr>\n",
       "      <th>Rodriguez High School</th>\n",
       "      <td>[District]</td>\n",
       "      <td>3999</td>\n",
       "      <td>[$2,547,363.00]</td>\n",
       "      <td>[$637.00]</td>\n",
       "      <td>76.84</td>\n",
       "      <td>80.74</td>\n",
       "      <td>66.37</td>\n",
       "      <td>80.22</td>\n",
       "      <td>52.99</td>\n",
       "    </tr>\n",
       "    <tr>\n",
       "      <th>Shelton High School</th>\n",
       "      <td>[Charter]</td>\n",
       "      <td>1761</td>\n",
       "      <td>[$1,056,600.00]</td>\n",
       "      <td>[$600.00]</td>\n",
       "      <td>83.36</td>\n",
       "      <td>83.73</td>\n",
       "      <td>93.87</td>\n",
       "      <td>95.85</td>\n",
       "      <td>89.89</td>\n",
       "    </tr>\n",
       "    <tr>\n",
       "      <th>Thomas High School</th>\n",
       "      <td>[Charter]</td>\n",
       "      <td>1635</td>\n",
       "      <td>[$1,043,130.00]</td>\n",
       "      <td>[$638.00]</td>\n",
       "      <td>83.42</td>\n",
       "      <td>83.85</td>\n",
       "      <td>93.27</td>\n",
       "      <td>97.31</td>\n",
       "      <td>90.95</td>\n",
       "    </tr>\n",
       "    <tr>\n",
       "      <th>Wilson High School</th>\n",
       "      <td>[Charter]</td>\n",
       "      <td>2283</td>\n",
       "      <td>[$1,319,574.00]</td>\n",
       "      <td>[$578.00]</td>\n",
       "      <td>83.27</td>\n",
       "      <td>83.99</td>\n",
       "      <td>93.87</td>\n",
       "      <td>96.54</td>\n",
       "      <td>90.58</td>\n",
       "    </tr>\n",
       "    <tr>\n",
       "      <th>Wright High School</th>\n",
       "      <td>[Charter]</td>\n",
       "      <td>1800</td>\n",
       "      <td>[$1,049,400.00]</td>\n",
       "      <td>[$583.00]</td>\n",
       "      <td>83.68</td>\n",
       "      <td>83.96</td>\n",
       "      <td>93.33</td>\n",
       "      <td>96.61</td>\n",
       "      <td>90.33</td>\n",
       "    </tr>\n",
       "  </tbody>\n",
       "</table>\n",
       "</div>"
      ],
      "text/plain": [
       "                      School Type  Total Students Total School Budget  \\\n",
       "School Name                                                             \n",
       "Bailey High School     [District]            4976     [$3,124,928.00]   \n",
       "Cabrera High School     [Charter]            1858     [$1,081,356.00]   \n",
       "Figueroa High School   [District]            2949     [$1,884,411.00]   \n",
       "Ford High School       [District]            2739     [$1,763,916.00]   \n",
       "Griffin High School     [Charter]            1468       [$917,500.00]   \n",
       "Hernandez High School  [District]            4635     [$3,022,020.00]   \n",
       "Holden High School      [Charter]             427       [$248,087.00]   \n",
       "Huang High School      [District]            2917     [$1,910,635.00]   \n",
       "Johnson High School    [District]            4761     [$3,094,650.00]   \n",
       "Pena High School        [Charter]             962       [$585,858.00]   \n",
       "Rodriguez High School  [District]            3999     [$2,547,363.00]   \n",
       "Shelton High School     [Charter]            1761     [$1,056,600.00]   \n",
       "Thomas High School      [Charter]            1635     [$1,043,130.00]   \n",
       "Wilson High School      [Charter]            2283     [$1,319,574.00]   \n",
       "Wright High School      [Charter]            1800     [$1,049,400.00]   \n",
       "\n",
       "                      Per Student Budget  Average Math Score  \\\n",
       "School Name                                                    \n",
       "Bailey High School             [$628.00]               77.05   \n",
       "Cabrera High School            [$582.00]               83.06   \n",
       "Figueroa High School           [$639.00]               76.71   \n",
       "Ford High School               [$644.00]               77.10   \n",
       "Griffin High School            [$625.00]               83.35   \n",
       "Hernandez High School          [$652.00]               77.29   \n",
       "Holden High School             [$581.00]               83.80   \n",
       "Huang High School              [$655.00]               76.63   \n",
       "Johnson High School            [$650.00]               77.07   \n",
       "Pena High School               [$609.00]               83.84   \n",
       "Rodriguez High School          [$637.00]               76.84   \n",
       "Shelton High School            [$600.00]               83.36   \n",
       "Thomas High School             [$638.00]               83.42   \n",
       "Wilson High School             [$578.00]               83.27   \n",
       "Wright High School             [$583.00]               83.68   \n",
       "\n",
       "                       Average Reading Score  % Passing Math  \\\n",
       "School Name                                                    \n",
       "Bailey High School                     81.03           66.68   \n",
       "Cabrera High School                    83.98           94.13   \n",
       "Figueroa High School                   81.16           65.99   \n",
       "Ford High School                       80.75           68.31   \n",
       "Griffin High School                    83.82           93.39   \n",
       "Hernandez High School                  80.93           66.75   \n",
       "Holden High School                     83.81           92.51   \n",
       "Huang High School                      81.18           65.68   \n",
       "Johnson High School                    80.97           66.06   \n",
       "Pena High School                       84.04           94.59   \n",
       "Rodriguez High School                  80.74           66.37   \n",
       "Shelton High School                    83.73           93.87   \n",
       "Thomas High School                     83.85           93.27   \n",
       "Wilson High School                     83.99           93.87   \n",
       "Wright High School                     83.96           93.33   \n",
       "\n",
       "                       % Passing Reading  % Overall Passing  \n",
       "School Name                                                  \n",
       "Bailey High School                 81.93              54.64  \n",
       "Cabrera High School                97.04              91.33  \n",
       "Figueroa High School               80.74              53.20  \n",
       "Ford High School                   79.30              54.29  \n",
       "Griffin High School                97.14              90.60  \n",
       "Hernandez High School              80.86              53.53  \n",
       "Holden High School                 96.25              89.23  \n",
       "Huang High School                  81.32              53.51  \n",
       "Johnson High School                81.22              53.54  \n",
       "Pena High School                   95.95              90.54  \n",
       "Rodriguez High School              80.22              52.99  \n",
       "Shelton High School                95.85              89.89  \n",
       "Thomas High School                 97.31              90.95  \n",
       "Wilson High School                 96.54              90.58  \n",
       "Wright High School                 96.61              90.33  "
      ]
     },
     "execution_count": 82,
     "metadata": {},
     "output_type": "execute_result"
    }
   ],
   "source": [
    "schools_summary_df[\"Per Student Budget\"] = per_student_budget.unique()\n",
    "schools_summary_df[\"Average Math Score\"] = round(top_schools1[\"math_score\"].mean(),2)\n",
    "schools_summary_df[\"Average Reading Score\"] = round(top_schools1[\"reading_score\"].mean(),2)\n",
    "schools_summary_df[\"% Passing Math\"]  = round(top_school_percent_passed_math, 2)\n",
    "schools_summary_df[\"% Passing Reading\"] = round(top_school_percent_passed_reading, 2)\n",
    "schools_summary_df[\"% Overall Passing\"] = round(top_school_percent_passed_both, 2)\n",
    "schools_summary_df#.set_index(\"school_name\")"
   ]
  },
  {
   "cell_type": "code",
   "execution_count": 83,
   "metadata": {
    "scrolled": true
   },
   "outputs": [],
   "source": [
    "# schools_summary_df.dtypes"
   ]
  },
  {
   "cell_type": "markdown",
   "metadata": {},
   "source": [
    "## School Summary"
   ]
  },
  {
   "cell_type": "markdown",
   "metadata": {},
   "source": [
    "* Create an overview table that summarizes key metrics about each school, including:\n",
    "  * School Name\n",
    "  * School Type\n",
    "  * Total Students\n",
    "  * Total School Budget\n",
    "  * Per Student Budget\n",
    "  * Average Math Score\n",
    "  * Average Reading Score\n",
    "  * % Passing Math\n",
    "  * % Passing Reading\n",
    "  * % Overall Passing (The percentage of students that passed math **and** reading.)\n",
    "  \n",
    "* Create a dataframe to hold the above results"
   ]
  },
  {
   "cell_type": "markdown",
   "metadata": {},
   "source": [
    "## Top Performing Schools (By % Overall Passing)"
   ]
  },
  {
   "cell_type": "markdown",
   "metadata": {},
   "source": [
    "* Sort and display the top five performing schools by % overall passing."
   ]
  },
  {
   "cell_type": "markdown",
   "metadata": {},
   "source": [
    "### TOP PERFORMING SCHOOLS BY % OVERALL PASSING RESULTS DATAFRAME"
   ]
  },
  {
   "cell_type": "code",
   "execution_count": 84,
   "metadata": {},
   "outputs": [
    {
     "data": {
      "text/html": [
       "<div>\n",
       "<style scoped>\n",
       "    .dataframe tbody tr th:only-of-type {\n",
       "        vertical-align: middle;\n",
       "    }\n",
       "\n",
       "    .dataframe tbody tr th {\n",
       "        vertical-align: top;\n",
       "    }\n",
       "\n",
       "    .dataframe thead th {\n",
       "        text-align: right;\n",
       "    }\n",
       "</style>\n",
       "<table border=\"1\" class=\"dataframe\">\n",
       "  <thead>\n",
       "    <tr style=\"text-align: right;\">\n",
       "      <th></th>\n",
       "      <th>School Type</th>\n",
       "      <th>Total Students</th>\n",
       "      <th>Total School Budget</th>\n",
       "      <th>Per Student Budget</th>\n",
       "      <th>Average Math Score</th>\n",
       "      <th>Average Reading Score</th>\n",
       "      <th>% Passing Math</th>\n",
       "      <th>% Passing Reading</th>\n",
       "      <th>% Overall Passing</th>\n",
       "    </tr>\n",
       "    <tr>\n",
       "      <th>School Name</th>\n",
       "      <th></th>\n",
       "      <th></th>\n",
       "      <th></th>\n",
       "      <th></th>\n",
       "      <th></th>\n",
       "      <th></th>\n",
       "      <th></th>\n",
       "      <th></th>\n",
       "      <th></th>\n",
       "    </tr>\n",
       "  </thead>\n",
       "  <tbody>\n",
       "    <tr>\n",
       "      <th>Cabrera High School</th>\n",
       "      <td>[Charter]</td>\n",
       "      <td>1858</td>\n",
       "      <td>[$1,081,356.00]</td>\n",
       "      <td>[$582.00]</td>\n",
       "      <td>83.06</td>\n",
       "      <td>83.98</td>\n",
       "      <td>94.13</td>\n",
       "      <td>97.04</td>\n",
       "      <td>91.33</td>\n",
       "    </tr>\n",
       "    <tr>\n",
       "      <th>Thomas High School</th>\n",
       "      <td>[Charter]</td>\n",
       "      <td>1635</td>\n",
       "      <td>[$1,043,130.00]</td>\n",
       "      <td>[$638.00]</td>\n",
       "      <td>83.42</td>\n",
       "      <td>83.85</td>\n",
       "      <td>93.27</td>\n",
       "      <td>97.31</td>\n",
       "      <td>90.95</td>\n",
       "    </tr>\n",
       "    <tr>\n",
       "      <th>Griffin High School</th>\n",
       "      <td>[Charter]</td>\n",
       "      <td>1468</td>\n",
       "      <td>[$917,500.00]</td>\n",
       "      <td>[$625.00]</td>\n",
       "      <td>83.35</td>\n",
       "      <td>83.82</td>\n",
       "      <td>93.39</td>\n",
       "      <td>97.14</td>\n",
       "      <td>90.60</td>\n",
       "    </tr>\n",
       "    <tr>\n",
       "      <th>Wilson High School</th>\n",
       "      <td>[Charter]</td>\n",
       "      <td>2283</td>\n",
       "      <td>[$1,319,574.00]</td>\n",
       "      <td>[$578.00]</td>\n",
       "      <td>83.27</td>\n",
       "      <td>83.99</td>\n",
       "      <td>93.87</td>\n",
       "      <td>96.54</td>\n",
       "      <td>90.58</td>\n",
       "    </tr>\n",
       "    <tr>\n",
       "      <th>Pena High School</th>\n",
       "      <td>[Charter]</td>\n",
       "      <td>962</td>\n",
       "      <td>[$585,858.00]</td>\n",
       "      <td>[$609.00]</td>\n",
       "      <td>83.84</td>\n",
       "      <td>84.04</td>\n",
       "      <td>94.59</td>\n",
       "      <td>95.95</td>\n",
       "      <td>90.54</td>\n",
       "    </tr>\n",
       "  </tbody>\n",
       "</table>\n",
       "</div>"
      ],
      "text/plain": [
       "                    School Type  Total Students Total School Budget  \\\n",
       "School Name                                                           \n",
       "Cabrera High School   [Charter]            1858     [$1,081,356.00]   \n",
       "Thomas High School    [Charter]            1635     [$1,043,130.00]   \n",
       "Griffin High School   [Charter]            1468       [$917,500.00]   \n",
       "Wilson High School    [Charter]            2283     [$1,319,574.00]   \n",
       "Pena High School      [Charter]             962       [$585,858.00]   \n",
       "\n",
       "                    Per Student Budget  Average Math Score  \\\n",
       "School Name                                                  \n",
       "Cabrera High School          [$582.00]               83.06   \n",
       "Thomas High School           [$638.00]               83.42   \n",
       "Griffin High School          [$625.00]               83.35   \n",
       "Wilson High School           [$578.00]               83.27   \n",
       "Pena High School             [$609.00]               83.84   \n",
       "\n",
       "                     Average Reading Score  % Passing Math  % Passing Reading  \\\n",
       "School Name                                                                     \n",
       "Cabrera High School                  83.98           94.13              97.04   \n",
       "Thomas High School                   83.85           93.27              97.31   \n",
       "Griffin High School                  83.82           93.39              97.14   \n",
       "Wilson High School                   83.99           93.87              96.54   \n",
       "Pena High School                     84.04           94.59              95.95   \n",
       "\n",
       "                     % Overall Passing  \n",
       "School Name                             \n",
       "Cabrera High School              91.33  \n",
       "Thomas High School               90.95  \n",
       "Griffin High School              90.60  \n",
       "Wilson High School               90.58  \n",
       "Pena High School                 90.54  "
      ]
     },
     "execution_count": 84,
     "metadata": {},
     "output_type": "execute_result"
    }
   ],
   "source": [
    "schools_summary_df.sort_values(\"% Overall Passing\", ascending=False).head(5)"
   ]
  },
  {
   "cell_type": "markdown",
   "metadata": {},
   "source": [
    "## Bottom Performing Schools (By % Overall Passing)"
   ]
  },
  {
   "cell_type": "markdown",
   "metadata": {},
   "source": [
    "* Sort and display the five worst-performing schools by % overall passing."
   ]
  },
  {
   "cell_type": "markdown",
   "metadata": {},
   "source": [
    "### BOTTOM PERFORMING SCHOOLS BY % OVERALL PASSING RESULTS DATAFRAME"
   ]
  },
  {
   "cell_type": "code",
   "execution_count": 85,
   "metadata": {
    "scrolled": true
   },
   "outputs": [
    {
     "data": {
      "text/html": [
       "<div>\n",
       "<style scoped>\n",
       "    .dataframe tbody tr th:only-of-type {\n",
       "        vertical-align: middle;\n",
       "    }\n",
       "\n",
       "    .dataframe tbody tr th {\n",
       "        vertical-align: top;\n",
       "    }\n",
       "\n",
       "    .dataframe thead th {\n",
       "        text-align: right;\n",
       "    }\n",
       "</style>\n",
       "<table border=\"1\" class=\"dataframe\">\n",
       "  <thead>\n",
       "    <tr style=\"text-align: right;\">\n",
       "      <th></th>\n",
       "      <th>School Type</th>\n",
       "      <th>Total Students</th>\n",
       "      <th>Total School Budget</th>\n",
       "      <th>Per Student Budget</th>\n",
       "      <th>Average Math Score</th>\n",
       "      <th>Average Reading Score</th>\n",
       "      <th>% Passing Math</th>\n",
       "      <th>% Passing Reading</th>\n",
       "      <th>% Overall Passing</th>\n",
       "    </tr>\n",
       "    <tr>\n",
       "      <th>School Name</th>\n",
       "      <th></th>\n",
       "      <th></th>\n",
       "      <th></th>\n",
       "      <th></th>\n",
       "      <th></th>\n",
       "      <th></th>\n",
       "      <th></th>\n",
       "      <th></th>\n",
       "      <th></th>\n",
       "    </tr>\n",
       "  </thead>\n",
       "  <tbody>\n",
       "    <tr>\n",
       "      <th>Rodriguez High School</th>\n",
       "      <td>[District]</td>\n",
       "      <td>3999</td>\n",
       "      <td>[$2,547,363.00]</td>\n",
       "      <td>[$637.00]</td>\n",
       "      <td>76.84</td>\n",
       "      <td>80.74</td>\n",
       "      <td>66.37</td>\n",
       "      <td>80.22</td>\n",
       "      <td>52.99</td>\n",
       "    </tr>\n",
       "    <tr>\n",
       "      <th>Figueroa High School</th>\n",
       "      <td>[District]</td>\n",
       "      <td>2949</td>\n",
       "      <td>[$1,884,411.00]</td>\n",
       "      <td>[$639.00]</td>\n",
       "      <td>76.71</td>\n",
       "      <td>81.16</td>\n",
       "      <td>65.99</td>\n",
       "      <td>80.74</td>\n",
       "      <td>53.20</td>\n",
       "    </tr>\n",
       "    <tr>\n",
       "      <th>Huang High School</th>\n",
       "      <td>[District]</td>\n",
       "      <td>2917</td>\n",
       "      <td>[$1,910,635.00]</td>\n",
       "      <td>[$655.00]</td>\n",
       "      <td>76.63</td>\n",
       "      <td>81.18</td>\n",
       "      <td>65.68</td>\n",
       "      <td>81.32</td>\n",
       "      <td>53.51</td>\n",
       "    </tr>\n",
       "    <tr>\n",
       "      <th>Hernandez High School</th>\n",
       "      <td>[District]</td>\n",
       "      <td>4635</td>\n",
       "      <td>[$3,022,020.00]</td>\n",
       "      <td>[$652.00]</td>\n",
       "      <td>77.29</td>\n",
       "      <td>80.93</td>\n",
       "      <td>66.75</td>\n",
       "      <td>80.86</td>\n",
       "      <td>53.53</td>\n",
       "    </tr>\n",
       "    <tr>\n",
       "      <th>Johnson High School</th>\n",
       "      <td>[District]</td>\n",
       "      <td>4761</td>\n",
       "      <td>[$3,094,650.00]</td>\n",
       "      <td>[$650.00]</td>\n",
       "      <td>77.07</td>\n",
       "      <td>80.97</td>\n",
       "      <td>66.06</td>\n",
       "      <td>81.22</td>\n",
       "      <td>53.54</td>\n",
       "    </tr>\n",
       "  </tbody>\n",
       "</table>\n",
       "</div>"
      ],
      "text/plain": [
       "                      School Type  Total Students Total School Budget  \\\n",
       "School Name                                                             \n",
       "Rodriguez High School  [District]            3999     [$2,547,363.00]   \n",
       "Figueroa High School   [District]            2949     [$1,884,411.00]   \n",
       "Huang High School      [District]            2917     [$1,910,635.00]   \n",
       "Hernandez High School  [District]            4635     [$3,022,020.00]   \n",
       "Johnson High School    [District]            4761     [$3,094,650.00]   \n",
       "\n",
       "                      Per Student Budget  Average Math Score  \\\n",
       "School Name                                                    \n",
       "Rodriguez High School          [$637.00]               76.84   \n",
       "Figueroa High School           [$639.00]               76.71   \n",
       "Huang High School              [$655.00]               76.63   \n",
       "Hernandez High School          [$652.00]               77.29   \n",
       "Johnson High School            [$650.00]               77.07   \n",
       "\n",
       "                       Average Reading Score  % Passing Math  \\\n",
       "School Name                                                    \n",
       "Rodriguez High School                  80.74           66.37   \n",
       "Figueroa High School                   81.16           65.99   \n",
       "Huang High School                      81.18           65.68   \n",
       "Hernandez High School                  80.93           66.75   \n",
       "Johnson High School                    80.97           66.06   \n",
       "\n",
       "                       % Passing Reading  % Overall Passing  \n",
       "School Name                                                  \n",
       "Rodriguez High School              80.22              52.99  \n",
       "Figueroa High School               80.74              53.20  \n",
       "Huang High School                  81.32              53.51  \n",
       "Hernandez High School              80.86              53.53  \n",
       "Johnson High School                81.22              53.54  "
      ]
     },
     "execution_count": 85,
     "metadata": {},
     "output_type": "execute_result"
    }
   ],
   "source": [
    "schools_summary_df.sort_values(\"% Overall Passing\", ascending=True).head(5)"
   ]
  },
  {
   "cell_type": "code",
   "execution_count": 86,
   "metadata": {},
   "outputs": [],
   "source": [
    "# schools_summary_df.count()"
   ]
  },
  {
   "cell_type": "markdown",
   "metadata": {
    "collapsed": true
   },
   "source": [
    "## Math Scores by Grade"
   ]
  },
  {
   "cell_type": "markdown",
   "metadata": {},
   "source": [
    "* Create a table that lists the average Reading Score for students of each grade level (9th, 10th, 11th, 12th) at each school.\n",
    "\n",
    "  * Create a pandas series for each grade. Hint: use a conditional statement.\n",
    "  \n",
    "  * Group each series by school\n",
    "  \n",
    "  * Combine the series into a dataframe\n",
    "  \n",
    "  * Optional: give the displayed data cleaner formatting"
   ]
  },
  {
   "cell_type": "code",
   "execution_count": 87,
   "metadata": {},
   "outputs": [],
   "source": [
    "\n",
    "# math_mean_df = schools70_df2.loc[(schools70_df2[\"grade\"]), :]\n",
    "# math_mean_df.head()"
   ]
  },
  {
   "cell_type": "code",
   "execution_count": 88,
   "metadata": {},
   "outputs": [
    {
     "data": {
      "text/plain": [
       "School Name          grade\n",
       "Bailey High School   10th     76.996772\n",
       "                     11th     77.515588\n",
       "                     12th     76.492218\n",
       "                     9th      77.083676\n",
       "Cabrera High School  10th     83.154506\n",
       "Name: math_score, dtype: float64"
      ]
     },
     "execution_count": 88,
     "metadata": {},
     "output_type": "execute_result"
    }
   ],
   "source": [
    "# math_mean_by_grade = schools70_df2[[\"School Name\", \"grade\", \"Average Math Score\"]]\n",
    "# math_mean_by_grade.groupby([\"School Name\", \"grade\"]).mean()\n",
    "# mm_by_grade = schools70_df2.value_counts([\"School Name\", \"grade\"])\n",
    "# mm_by_grade.head()\n",
    "mm_group = schools70_df2[[\"School Name\", \"grade\", \"math_score\"]]\n",
    "mm_group1 = mm_group.groupby([\"School Name\", \"grade\"])[\"math_score\"].mean()\n",
    "mm_group1.head()\n",
    "# mm_group1.to_frame()\n"
   ]
  },
  {
   "cell_type": "code",
   "execution_count": 89,
   "metadata": {},
   "outputs": [],
   "source": [
    "mm_group = schools70_df2[[\"School Name\", \"grade\", \"math_score\"]]\n",
    "# mm_group1 = mm_group.groupby([\"School Name\", \"grade\"])[\"math_score\"].mean()\n",
    "# mm_group1.to_frame()\n",
    "# mm_group9 = pd.DataFrame(mm_group.loc[mm_group[\"grade\"]==\"9th\"])\n",
    "# mm_group9.head()\n",
    "# mm_group.head()"
   ]
  },
  {
   "cell_type": "code",
   "execution_count": 90,
   "metadata": {
    "scrolled": true
   },
   "outputs": [],
   "source": [
    "# mm_group = schools70_df2[[\"School Name\", \"grade\", \"math_score\"]]\n",
    "# mm_group.groupby([\"School Name\", \"grade\"])[\"math_score\"].mean()\n",
    "mm_group2 = mm_group.groupby([\"grade\", \"School Name\"])[\"math_score\"].mean()\n",
    "# mm_group2.to_frame()"
   ]
  },
  {
   "cell_type": "code",
   "execution_count": 91,
   "metadata": {
    "scrolled": true
   },
   "outputs": [],
   "source": [
    "mm_group3 = mm_group.groupby([\"grade\",\"School Name\"])[[\"grade\",\"math_score\"]].mean()\n",
    "# mm_group3"
   ]
  },
  {
   "cell_type": "code",
   "execution_count": 92,
   "metadata": {
    "scrolled": true
   },
   "outputs": [],
   "source": [
    "mm_group4 = mm_group.groupby([\"School Name\",\"grade\"])[[\"grade\",\"math_score\"]].mean().reset_index()\n",
    "# mm_group4"
   ]
  },
  {
   "cell_type": "code",
   "execution_count": 93,
   "metadata": {},
   "outputs": [],
   "source": [
    "# FOR CONVENIENCE\n",
    "# schools70_df2.head()"
   ]
  },
  {
   "cell_type": "code",
   "execution_count": 94,
   "metadata": {},
   "outputs": [
    {
     "data": {
      "text/plain": [
       "(39170, 15)"
      ]
     },
     "execution_count": 94,
     "metadata": {},
     "output_type": "execute_result"
    }
   ],
   "source": [
    "# NEXT STEP! Try to drive .loc back to schools70_df2 - before any groupby\n",
    "# repeat schools70_df2 for reference\n",
    "schools70_df2.shape"
   ]
  },
  {
   "cell_type": "code",
   "execution_count": 95,
   "metadata": {
    "scrolled": false
   },
   "outputs": [
    {
     "data": {
      "text/plain": [
       "Index(['Student ID', 'student_name', 'gender', 'grade', 'School Name',\n",
       "       'reading_score', 'math_score', 'School ID', 'School Type',\n",
       "       'Total Students', 'Total School Budget', 'math-over-70',\n",
       "       'reading-over-70', 'both-over-70', 'Per Student Budget'],\n",
       "      dtype='object')"
      ]
     },
     "execution_count": 95,
     "metadata": {},
     "output_type": "execute_result"
    }
   ],
   "source": [
    "schools70_df2.columns"
   ]
  },
  {
   "cell_type": "code",
   "execution_count": 96,
   "metadata": {
    "scrolled": true
   },
   "outputs": [],
   "source": [
    "# test1_df = schools70_df2[[\"School Name\", \"grade\", \"math_score\"]]\n",
    "# test1_df.head()\n",
    "# don't need"
   ]
  },
  {
   "cell_type": "markdown",
   "metadata": {},
   "source": [
    "### START OF CALCULATIONS USED IN MATH SCORES BY GRADE"
   ]
  },
  {
   "cell_type": "code",
   "execution_count": 97,
   "metadata": {
    "scrolled": true
   },
   "outputs": [],
   "source": [
    "test1_df9 = schools70_df2.loc[schools70_df2[\"grade\"] == \"9th\", [\"School Name\", \"math_score\"]]\n",
    "# test1_df9.head()"
   ]
  },
  {
   "cell_type": "code",
   "execution_count": 98,
   "metadata": {
    "scrolled": true
   },
   "outputs": [
    {
     "data": {
      "text/plain": [
       "School Name\n",
       "Bailey High School       77.08\n",
       "Cabrera High School      83.09\n",
       "Figueroa High School     76.40\n",
       "Ford High School         77.36\n",
       "Griffin High School      82.04\n",
       "Hernandez High School    77.44\n",
       "Holden High School       83.79\n",
       "Huang High School        77.03\n",
       "Johnson High School      77.19\n",
       "Pena High School         83.63\n",
       "Rodriguez High School    76.86\n",
       "Shelton High School      83.42\n",
       "Thomas High School       83.59\n",
       "Wilson High School       83.09\n",
       "Wright High School       83.26\n",
       "Name: math_score, dtype: float64"
      ]
     },
     "execution_count": 98,
     "metadata": {},
     "output_type": "execute_result"
    }
   ],
   "source": [
    "test1_df9_group = round(test1_df9.groupby([\"School Name\"])[\"math_score\"].mean(),2)\n",
    "test1_df9_group"
   ]
  },
  {
   "cell_type": "code",
   "execution_count": 99,
   "metadata": {},
   "outputs": [
    {
     "data": {
      "text/plain": [
       "School Name\n",
       "Bailey High School       77.00\n",
       "Cabrera High School      83.15\n",
       "Figueroa High School     76.54\n",
       "Ford High School         77.67\n",
       "Griffin High School      84.23\n",
       "Hernandez High School    77.34\n",
       "Holden High School       83.43\n",
       "Huang High School        75.91\n",
       "Johnson High School      76.69\n",
       "Pena High School         83.37\n",
       "Rodriguez High School    76.61\n",
       "Shelton High School      82.92\n",
       "Thomas High School       83.09\n",
       "Wilson High School       83.72\n",
       "Wright High School       84.01\n",
       "Name: math_score, dtype: float64"
      ]
     },
     "execution_count": 99,
     "metadata": {},
     "output_type": "execute_result"
    }
   ],
   "source": [
    "test1_df10 = schools70_df2.loc[schools70_df2[\"grade\"] == \"10th\", [\"School Name\", \"math_score\"]]\n",
    "test1_df10_group = round(test1_df10.groupby([\"School Name\"])[\"math_score\"].mean(),2)\n",
    "test1_df10_group"
   ]
  },
  {
   "cell_type": "code",
   "execution_count": 100,
   "metadata": {},
   "outputs": [
    {
     "data": {
      "text/plain": [
       "School Name\n",
       "Bailey High School       77.52\n",
       "Cabrera High School      82.77\n",
       "Figueroa High School     76.88\n",
       "Ford High School         76.92\n",
       "Griffin High School      83.84\n",
       "Hernandez High School    77.14\n",
       "Holden High School       85.00\n",
       "Huang High School        76.45\n",
       "Johnson High School      77.49\n",
       "Pena High School         84.33\n",
       "Rodriguez High School    76.40\n",
       "Shelton High School      83.38\n",
       "Thomas High School       83.50\n",
       "Wilson High School       83.20\n",
       "Wright High School       83.84\n",
       "Name: math_score, dtype: float64"
      ]
     },
     "execution_count": 100,
     "metadata": {},
     "output_type": "execute_result"
    }
   ],
   "source": [
    "test1_df11 = schools70_df2.loc[schools70_df2[\"grade\"] == \"11th\", [\"School Name\", \"math_score\"]]\n",
    "test1_df11_group = round(test1_df11.groupby([\"School Name\"])[\"math_score\"].mean(),2)\n",
    "test1_df11_group"
   ]
  },
  {
   "cell_type": "code",
   "execution_count": 101,
   "metadata": {},
   "outputs": [
    {
     "data": {
      "text/plain": [
       "School Name\n",
       "Bailey High School       76.49\n",
       "Cabrera High School      83.28\n",
       "Figueroa High School     77.15\n",
       "Ford High School         76.18\n",
       "Griffin High School      83.36\n",
       "Hernandez High School    77.19\n",
       "Holden High School       82.86\n",
       "Huang High School        77.23\n",
       "Johnson High School      76.86\n",
       "Pena High School         84.12\n",
       "Rodriguez High School    77.69\n",
       "Shelton High School      83.78\n",
       "Thomas High School       83.50\n",
       "Wilson High School       83.04\n",
       "Wright High School       83.64\n",
       "Name: math_score, dtype: float64"
      ]
     },
     "execution_count": 101,
     "metadata": {},
     "output_type": "execute_result"
    }
   ],
   "source": [
    "test1_df12 = schools70_df2.loc[schools70_df2[\"grade\"] == \"12th\", [\"School Name\", \"math_score\"]]\n",
    "test1_df12_group = round(test1_df12.groupby([\"School Name\"])[\"math_score\"].mean(),2)\n",
    "test1_df12_group"
   ]
  },
  {
   "cell_type": "markdown",
   "metadata": {},
   "source": [
    "### START OF CALCULATIONS FOR READING SCORE BY GRADE\n",
    "* DONE SAME WAY AS MATH SCORE BY GRADE"
   ]
  },
  {
   "cell_type": "code",
   "execution_count": 102,
   "metadata": {},
   "outputs": [
    {
     "data": {
      "text/plain": [
       "School Name\n",
       "Bailey High School       81.30\n",
       "Cabrera High School      83.68\n",
       "Figueroa High School     81.20\n",
       "Ford High School         80.63\n",
       "Griffin High School      83.37\n",
       "Hernandez High School    80.87\n",
       "Holden High School       83.68\n",
       "Huang High School        81.29\n",
       "Johnson High School      81.26\n",
       "Pena High School         83.81\n",
       "Rodriguez High School    80.99\n",
       "Shelton High School      84.12\n",
       "Thomas High School       83.73\n",
       "Wilson High School       83.94\n",
       "Wright High School       83.83\n",
       "Name: reading_score, dtype: float64"
      ]
     },
     "execution_count": 102,
     "metadata": {},
     "output_type": "execute_result"
    }
   ],
   "source": [
    "# start the same process for reading\n",
    "read_ave_df9 = schools70_df2.loc[schools70_df2[\"grade\"] == \"9th\", [\"School Name\", \"reading_score\"]]\n",
    "read_ave_df9_group = round(read_ave_df9.groupby([\"School Name\"])[\"reading_score\"].mean(),2)\n",
    "read_ave_df9_group"
   ]
  },
  {
   "cell_type": "code",
   "execution_count": 103,
   "metadata": {
    "scrolled": true
   },
   "outputs": [
    {
     "data": {
      "text/plain": [
       "School Name\n",
       "Bailey High School       80.91\n",
       "Cabrera High School      84.25\n",
       "Figueroa High School     81.41\n",
       "Ford High School         81.26\n",
       "Griffin High School      83.71\n",
       "Hernandez High School    80.66\n",
       "Holden High School       83.32\n",
       "Huang High School        81.51\n",
       "Johnson High School      80.77\n",
       "Pena High School         83.61\n",
       "Rodriguez High School    80.63\n",
       "Shelton High School      83.44\n",
       "Thomas High School       84.25\n",
       "Wilson High School       84.02\n",
       "Wright High School       83.81\n",
       "Name: reading_score, dtype: float64"
      ]
     },
     "execution_count": 103,
     "metadata": {},
     "output_type": "execute_result"
    }
   ],
   "source": [
    "read_ave_df10 = schools70_df2.loc[schools70_df2[\"grade\"] == \"10th\", [\"School Name\", \"reading_score\"]]\n",
    "read_ave_df10_group = round(read_ave_df10.groupby([\"School Name\"])[\"reading_score\"].mean(),2)\n",
    "read_ave_df10_group"
   ]
  },
  {
   "cell_type": "code",
   "execution_count": 104,
   "metadata": {},
   "outputs": [
    {
     "data": {
      "text/plain": [
       "School Name\n",
       "Bailey High School       80.95\n",
       "Cabrera High School      83.79\n",
       "Figueroa High School     80.64\n",
       "Ford High School         80.40\n",
       "Griffin High School      84.29\n",
       "Hernandez High School    81.40\n",
       "Holden High School       83.82\n",
       "Huang High School        81.42\n",
       "Johnson High School      80.62\n",
       "Pena High School         84.34\n",
       "Rodriguez High School    80.86\n",
       "Shelton High School      84.37\n",
       "Thomas High School       83.59\n",
       "Wilson High School       83.76\n",
       "Wright High School       84.16\n",
       "Name: reading_score, dtype: float64"
      ]
     },
     "execution_count": 104,
     "metadata": {},
     "output_type": "execute_result"
    }
   ],
   "source": [
    "read_ave_df11 = schools70_df2.loc[schools70_df2[\"grade\"] == \"11th\", [\"School Name\", \"reading_score\"]]\n",
    "read_ave_df11_group = round(read_ave_df11.groupby([\"School Name\"])[\"reading_score\"].mean(),2)\n",
    "read_ave_df11_group"
   ]
  },
  {
   "cell_type": "code",
   "execution_count": 105,
   "metadata": {
    "scrolled": true
   },
   "outputs": [
    {
     "data": {
      "text/plain": [
       "School Name\n",
       "Bailey High School       80.91\n",
       "Cabrera High School      84.29\n",
       "Figueroa High School     81.38\n",
       "Ford High School         80.66\n",
       "Griffin High School      84.01\n",
       "Hernandez High School    80.86\n",
       "Holden High School       84.70\n",
       "Huang High School        80.31\n",
       "Johnson High School      81.23\n",
       "Pena High School         84.59\n",
       "Rodriguez High School    80.38\n",
       "Shelton High School      82.78\n",
       "Thomas High School       83.83\n",
       "Wilson High School       84.32\n",
       "Wright High School       84.07\n",
       "Name: reading_score, dtype: float64"
      ]
     },
     "execution_count": 105,
     "metadata": {},
     "output_type": "execute_result"
    }
   ],
   "source": [
    "read_ave_df12 = schools70_df2.loc[schools70_df2[\"grade\"] == \"12th\", [\"School Name\", \"reading_score\"]]\n",
    "read_ave_df12_group = round(read_ave_df12.groupby([\"School Name\"])[\"reading_score\"].mean(),2)\n",
    "read_ave_df12_group"
   ]
  },
  {
   "cell_type": "markdown",
   "metadata": {},
   "source": [
    "#### THESE WERE THE INITIAL CALCULATIONS FOR MATH SCORE BY GRADE, BUT THE DATAFRAME DID NOT WORK."
   ]
  },
  {
   "cell_type": "code",
   "execution_count": 106,
   "metadata": {
    "scrolled": true
   },
   "outputs": [],
   "source": [
    "mm9 = mm_group4.loc[lambda mm_group4: mm_group4[\"grade\"] == \"9th\"]\n",
    "mean_math_9 = round(mm9, 2)\n",
    "# mean_math_9"
   ]
  },
  {
   "cell_type": "code",
   "execution_count": 107,
   "metadata": {},
   "outputs": [],
   "source": [
    "mm10 = mm_group4.loc[lambda mm_group4: mm_group4[\"grade\"] == \"10th\"]\n",
    "mean_math_10 = round(mm10, 2)\n",
    "# mean_math_10"
   ]
  },
  {
   "cell_type": "code",
   "execution_count": 108,
   "metadata": {
    "scrolled": true
   },
   "outputs": [],
   "source": [
    "mm11 = mm_group4.loc[lambda mm_group4: mm_group4[\"grade\"] == \"11th\"]\n",
    "mean_math_11 = round(mm11, 2)\n",
    "# mean_math_11"
   ]
  },
  {
   "cell_type": "code",
   "execution_count": 109,
   "metadata": {
    "scrolled": true
   },
   "outputs": [],
   "source": [
    "mm12 = mm_group4.loc[lambda mm_group4: mm_group4[\"grade\"] == \"12th\"]\n",
    "mean_math_12 = round(mm12, 2)\n",
    "# mean_math_12"
   ]
  },
  {
   "cell_type": "code",
   "execution_count": 110,
   "metadata": {
    "scrolled": true
   },
   "outputs": [],
   "source": [
    "# mm12 = mm_group4.loc[lambda mm_group4: mm_group4[\"grade\"] == \"12th\"].mean()\n",
    "# mean_math_12 = [round(mm12, 2)]\n",
    "# mean_math_12"
   ]
  },
  {
   "cell_type": "code",
   "execution_count": 111,
   "metadata": {
    "scrolled": true
   },
   "outputs": [],
   "source": [
    "# mm9"
   ]
  },
  {
   "cell_type": "code",
   "execution_count": 112,
   "metadata": {},
   "outputs": [],
   "source": [
    "# \"School Name\": [mm_group4[\"School Name\"]],"
   ]
  },
  {
   "cell_type": "markdown",
   "metadata": {},
   "source": [
    "### MATH SCORES BY GRADE RESULTS DATAFRAME"
   ]
  },
  {
   "cell_type": "code",
   "execution_count": 175,
   "metadata": {
    "scrolled": true
   },
   "outputs": [
    {
     "data": {
      "text/html": [
       "<div>\n",
       "<style scoped>\n",
       "    .dataframe tbody tr th:only-of-type {\n",
       "        vertical-align: middle;\n",
       "    }\n",
       "\n",
       "    .dataframe tbody tr th {\n",
       "        vertical-align: top;\n",
       "    }\n",
       "\n",
       "    .dataframe thead th {\n",
       "        text-align: right;\n",
       "    }\n",
       "</style>\n",
       "<table border=\"1\" class=\"dataframe\">\n",
       "  <thead>\n",
       "    <tr style=\"text-align: right;\">\n",
       "      <th></th>\n",
       "      <th>9th</th>\n",
       "      <th>10th</th>\n",
       "      <th>11th</th>\n",
       "      <th>12th</th>\n",
       "    </tr>\n",
       "    <tr>\n",
       "      <th>School Name</th>\n",
       "      <th></th>\n",
       "      <th></th>\n",
       "      <th></th>\n",
       "      <th></th>\n",
       "    </tr>\n",
       "  </thead>\n",
       "  <tbody>\n",
       "    <tr>\n",
       "      <th>Bailey High School</th>\n",
       "      <td>77.08</td>\n",
       "      <td>77.00</td>\n",
       "      <td>77.52</td>\n",
       "      <td>76.49</td>\n",
       "    </tr>\n",
       "    <tr>\n",
       "      <th>Cabrera High School</th>\n",
       "      <td>83.09</td>\n",
       "      <td>83.15</td>\n",
       "      <td>82.77</td>\n",
       "      <td>83.28</td>\n",
       "    </tr>\n",
       "    <tr>\n",
       "      <th>Figueroa High School</th>\n",
       "      <td>76.40</td>\n",
       "      <td>76.54</td>\n",
       "      <td>76.88</td>\n",
       "      <td>77.15</td>\n",
       "    </tr>\n",
       "    <tr>\n",
       "      <th>Ford High School</th>\n",
       "      <td>77.36</td>\n",
       "      <td>77.67</td>\n",
       "      <td>76.92</td>\n",
       "      <td>76.18</td>\n",
       "    </tr>\n",
       "    <tr>\n",
       "      <th>Griffin High School</th>\n",
       "      <td>82.04</td>\n",
       "      <td>84.23</td>\n",
       "      <td>83.84</td>\n",
       "      <td>83.36</td>\n",
       "    </tr>\n",
       "    <tr>\n",
       "      <th>Hernandez High School</th>\n",
       "      <td>77.44</td>\n",
       "      <td>77.34</td>\n",
       "      <td>77.14</td>\n",
       "      <td>77.19</td>\n",
       "    </tr>\n",
       "    <tr>\n",
       "      <th>Holden High School</th>\n",
       "      <td>83.79</td>\n",
       "      <td>83.43</td>\n",
       "      <td>85.00</td>\n",
       "      <td>82.86</td>\n",
       "    </tr>\n",
       "    <tr>\n",
       "      <th>Huang High School</th>\n",
       "      <td>77.03</td>\n",
       "      <td>75.91</td>\n",
       "      <td>76.45</td>\n",
       "      <td>77.23</td>\n",
       "    </tr>\n",
       "    <tr>\n",
       "      <th>Johnson High School</th>\n",
       "      <td>77.19</td>\n",
       "      <td>76.69</td>\n",
       "      <td>77.49</td>\n",
       "      <td>76.86</td>\n",
       "    </tr>\n",
       "    <tr>\n",
       "      <th>Pena High School</th>\n",
       "      <td>83.63</td>\n",
       "      <td>83.37</td>\n",
       "      <td>84.33</td>\n",
       "      <td>84.12</td>\n",
       "    </tr>\n",
       "    <tr>\n",
       "      <th>Rodriguez High School</th>\n",
       "      <td>76.86</td>\n",
       "      <td>76.61</td>\n",
       "      <td>76.40</td>\n",
       "      <td>77.69</td>\n",
       "    </tr>\n",
       "    <tr>\n",
       "      <th>Shelton High School</th>\n",
       "      <td>83.42</td>\n",
       "      <td>82.92</td>\n",
       "      <td>83.38</td>\n",
       "      <td>83.78</td>\n",
       "    </tr>\n",
       "    <tr>\n",
       "      <th>Thomas High School</th>\n",
       "      <td>83.59</td>\n",
       "      <td>83.09</td>\n",
       "      <td>83.50</td>\n",
       "      <td>83.50</td>\n",
       "    </tr>\n",
       "    <tr>\n",
       "      <th>Wilson High School</th>\n",
       "      <td>83.09</td>\n",
       "      <td>83.72</td>\n",
       "      <td>83.20</td>\n",
       "      <td>83.04</td>\n",
       "    </tr>\n",
       "    <tr>\n",
       "      <th>Wright High School</th>\n",
       "      <td>83.26</td>\n",
       "      <td>84.01</td>\n",
       "      <td>83.84</td>\n",
       "      <td>83.64</td>\n",
       "    </tr>\n",
       "  </tbody>\n",
       "</table>\n",
       "</div>"
      ],
      "text/plain": [
       "                         9th   10th   11th   12th\n",
       "School Name                                      \n",
       "Bailey High School     77.08  77.00  77.52  76.49\n",
       "Cabrera High School    83.09  83.15  82.77  83.28\n",
       "Figueroa High School   76.40  76.54  76.88  77.15\n",
       "Ford High School       77.36  77.67  76.92  76.18\n",
       "Griffin High School    82.04  84.23  83.84  83.36\n",
       "Hernandez High School  77.44  77.34  77.14  77.19\n",
       "Holden High School     83.79  83.43  85.00  82.86\n",
       "Huang High School      77.03  75.91  76.45  77.23\n",
       "Johnson High School    77.19  76.69  77.49  76.86\n",
       "Pena High School       83.63  83.37  84.33  84.12\n",
       "Rodriguez High School  76.86  76.61  76.40  77.69\n",
       "Shelton High School    83.42  82.92  83.38  83.78\n",
       "Thomas High School     83.59  83.09  83.50  83.50\n",
       "Wilson High School     83.09  83.72  83.20  83.04\n",
       "Wright High School     83.26  84.01  83.84  83.64"
      ]
     },
     "execution_count": 175,
     "metadata": {},
     "output_type": "execute_result"
    }
   ],
   "source": [
    "math_mean_by_grade = pd.DataFrame({\n",
    "                                   \"9th\": test1_df9_group,\n",
    "                                  \"10th\": test1_df10_group,\n",
    "                                  \"11th\": test1_df11_group,\n",
    "                                  \"12th\": test1_df12_group})\n",
    "math_mean_by_grade"
   ]
  },
  {
   "cell_type": "markdown",
   "metadata": {},
   "source": [
    "## Reading Score by Grade "
   ]
  },
  {
   "cell_type": "markdown",
   "metadata": {},
   "source": [
    "* Perform the same operations as above for reading scores"
   ]
  },
  {
   "cell_type": "markdown",
   "metadata": {},
   "source": [
    "### READING SCORE BY GRADE RESULTS DATAFRAME"
   ]
  },
  {
   "cell_type": "code",
   "execution_count": 114,
   "metadata": {},
   "outputs": [
    {
     "data": {
      "text/html": [
       "<div>\n",
       "<style scoped>\n",
       "    .dataframe tbody tr th:only-of-type {\n",
       "        vertical-align: middle;\n",
       "    }\n",
       "\n",
       "    .dataframe tbody tr th {\n",
       "        vertical-align: top;\n",
       "    }\n",
       "\n",
       "    .dataframe thead th {\n",
       "        text-align: right;\n",
       "    }\n",
       "</style>\n",
       "<table border=\"1\" class=\"dataframe\">\n",
       "  <thead>\n",
       "    <tr style=\"text-align: right;\">\n",
       "      <th></th>\n",
       "      <th>9th</th>\n",
       "      <th>10th</th>\n",
       "      <th>11th</th>\n",
       "      <th>12th</th>\n",
       "    </tr>\n",
       "    <tr>\n",
       "      <th>School Name</th>\n",
       "      <th></th>\n",
       "      <th></th>\n",
       "      <th></th>\n",
       "      <th></th>\n",
       "    </tr>\n",
       "  </thead>\n",
       "  <tbody>\n",
       "    <tr>\n",
       "      <th>Bailey High School</th>\n",
       "      <td>81.30</td>\n",
       "      <td>80.91</td>\n",
       "      <td>80.95</td>\n",
       "      <td>80.91</td>\n",
       "    </tr>\n",
       "    <tr>\n",
       "      <th>Cabrera High School</th>\n",
       "      <td>83.68</td>\n",
       "      <td>84.25</td>\n",
       "      <td>83.79</td>\n",
       "      <td>84.29</td>\n",
       "    </tr>\n",
       "    <tr>\n",
       "      <th>Figueroa High School</th>\n",
       "      <td>81.20</td>\n",
       "      <td>81.41</td>\n",
       "      <td>80.64</td>\n",
       "      <td>81.38</td>\n",
       "    </tr>\n",
       "    <tr>\n",
       "      <th>Ford High School</th>\n",
       "      <td>80.63</td>\n",
       "      <td>81.26</td>\n",
       "      <td>80.40</td>\n",
       "      <td>80.66</td>\n",
       "    </tr>\n",
       "    <tr>\n",
       "      <th>Griffin High School</th>\n",
       "      <td>83.37</td>\n",
       "      <td>83.71</td>\n",
       "      <td>84.29</td>\n",
       "      <td>84.01</td>\n",
       "    </tr>\n",
       "    <tr>\n",
       "      <th>Hernandez High School</th>\n",
       "      <td>80.87</td>\n",
       "      <td>80.66</td>\n",
       "      <td>81.40</td>\n",
       "      <td>80.86</td>\n",
       "    </tr>\n",
       "    <tr>\n",
       "      <th>Holden High School</th>\n",
       "      <td>83.68</td>\n",
       "      <td>83.32</td>\n",
       "      <td>83.82</td>\n",
       "      <td>84.70</td>\n",
       "    </tr>\n",
       "    <tr>\n",
       "      <th>Huang High School</th>\n",
       "      <td>81.29</td>\n",
       "      <td>81.51</td>\n",
       "      <td>81.42</td>\n",
       "      <td>80.31</td>\n",
       "    </tr>\n",
       "    <tr>\n",
       "      <th>Johnson High School</th>\n",
       "      <td>81.26</td>\n",
       "      <td>80.77</td>\n",
       "      <td>80.62</td>\n",
       "      <td>81.23</td>\n",
       "    </tr>\n",
       "    <tr>\n",
       "      <th>Pena High School</th>\n",
       "      <td>83.81</td>\n",
       "      <td>83.61</td>\n",
       "      <td>84.34</td>\n",
       "      <td>84.59</td>\n",
       "    </tr>\n",
       "    <tr>\n",
       "      <th>Rodriguez High School</th>\n",
       "      <td>80.99</td>\n",
       "      <td>80.63</td>\n",
       "      <td>80.86</td>\n",
       "      <td>80.38</td>\n",
       "    </tr>\n",
       "    <tr>\n",
       "      <th>Shelton High School</th>\n",
       "      <td>84.12</td>\n",
       "      <td>83.44</td>\n",
       "      <td>84.37</td>\n",
       "      <td>82.78</td>\n",
       "    </tr>\n",
       "    <tr>\n",
       "      <th>Thomas High School</th>\n",
       "      <td>83.73</td>\n",
       "      <td>84.25</td>\n",
       "      <td>83.59</td>\n",
       "      <td>83.83</td>\n",
       "    </tr>\n",
       "    <tr>\n",
       "      <th>Wilson High School</th>\n",
       "      <td>83.94</td>\n",
       "      <td>84.02</td>\n",
       "      <td>83.76</td>\n",
       "      <td>84.32</td>\n",
       "    </tr>\n",
       "    <tr>\n",
       "      <th>Wright High School</th>\n",
       "      <td>83.83</td>\n",
       "      <td>83.81</td>\n",
       "      <td>84.16</td>\n",
       "      <td>84.07</td>\n",
       "    </tr>\n",
       "  </tbody>\n",
       "</table>\n",
       "</div>"
      ],
      "text/plain": [
       "                         9th   10th   11th   12th\n",
       "School Name                                      \n",
       "Bailey High School     81.30  80.91  80.95  80.91\n",
       "Cabrera High School    83.68  84.25  83.79  84.29\n",
       "Figueroa High School   81.20  81.41  80.64  81.38\n",
       "Ford High School       80.63  81.26  80.40  80.66\n",
       "Griffin High School    83.37  83.71  84.29  84.01\n",
       "Hernandez High School  80.87  80.66  81.40  80.86\n",
       "Holden High School     83.68  83.32  83.82  84.70\n",
       "Huang High School      81.29  81.51  81.42  80.31\n",
       "Johnson High School    81.26  80.77  80.62  81.23\n",
       "Pena High School       83.81  83.61  84.34  84.59\n",
       "Rodriguez High School  80.99  80.63  80.86  80.38\n",
       "Shelton High School    84.12  83.44  84.37  82.78\n",
       "Thomas High School     83.73  84.25  83.59  83.83\n",
       "Wilson High School     83.94  84.02  83.76  84.32\n",
       "Wright High School     83.83  83.81  84.16  84.07"
      ]
     },
     "execution_count": 114,
     "metadata": {},
     "output_type": "execute_result"
    }
   ],
   "source": [
    "reading_mean_by_grade = pd.DataFrame({\"9th\": read_ave_df9_group,\n",
    "                                      \"10th\": read_ave_df10_group,\n",
    "                                      \"11th\": read_ave_df11_group,\n",
    "                                      \"12th\": read_ave_df12_group})\n",
    "reading_mean_by_grade"
   ]
  },
  {
   "cell_type": "markdown",
   "metadata": {},
   "source": [
    "## Scores by School Spending"
   ]
  },
  {
   "cell_type": "markdown",
   "metadata": {},
   "source": [
    "* Create a table that breaks down school performances based on average Spending Ranges (Per Student). Use 4 reasonable bins to group school spending. Include in the table each of the following:\n",
    "  * Average Math Score\n",
    "  * Average Reading Score\n",
    "  * % Passing Math\n",
    "  * % Passing Reading\n",
    "  * Overall Passing Rate (Average of the above two)"
   ]
  },
  {
   "cell_type": "code",
   "execution_count": 115,
   "metadata": {
    "scrolled": false
   },
   "outputs": [],
   "source": [
    "# REPEATED FOR CONVENIENCE\n",
    "# schools_summary_df.head()"
   ]
  },
  {
   "cell_type": "code",
   "execution_count": 116,
   "metadata": {},
   "outputs": [],
   "source": [
    "# schools_summary_df.dtypes"
   ]
  },
  {
   "cell_type": "markdown",
   "metadata": {},
   "source": [
    "### TO DETERMINE BIN SIZES FOR PER STUDENT SPENDING RANGE"
   ]
  },
  {
   "cell_type": "code",
   "execution_count": 117,
   "metadata": {},
   "outputs": [
    {
     "data": {
      "text/plain": [
       "School Name\n",
       "Wilson High School       [$578.00]\n",
       "Holden High School       [$581.00]\n",
       "Cabrera High School      [$582.00]\n",
       "Wright High School       [$583.00]\n",
       "Shelton High School      [$600.00]\n",
       "Pena High School         [$609.00]\n",
       "Griffin High School      [$625.00]\n",
       "Bailey High School       [$628.00]\n",
       "Rodriguez High School    [$637.00]\n",
       "Thomas High School       [$638.00]\n",
       "Figueroa High School     [$639.00]\n",
       "Ford High School         [$644.00]\n",
       "Johnson High School      [$650.00]\n",
       "Hernandez High School    [$652.00]\n",
       "Huang High School        [$655.00]\n",
       "Name: Per Student Budget, dtype: object"
      ]
     },
     "execution_count": 117,
     "metadata": {},
     "output_type": "execute_result"
    }
   ],
   "source": [
    "schools_summary_df[\"Per Student Budget\"].sort_values()\n",
    "# bins on Per Student Budget: range = 655-578 = 77 \n",
    "# round range up to 100/4, so 4 bins of 25 starting at 575\n",
    "# 575 - 600, 600 - 625, 625 - 650, 650 - 675"
   ]
  },
  {
   "cell_type": "code",
   "execution_count": 118,
   "metadata": {},
   "outputs": [],
   "source": [
    "# schools_spending_df = schools_summary_df[[\n",
    "#                                          \"Average Math Score\", \"Average Reading Score\",\n",
    "#                                          \"% Passing Math\", \"% Passing Reading\",\n",
    "#                                          \"% Overall Passing\"]]\n",
    "# schools_spending_df[\"Per Student Budget\"] = schools70_df2[\"Per Student Budget\"]\n",
    "# schools_spending_df.head()\n",
    "# keep getting NaN in this new column.  Move cells up before cut and rerun."
   ]
  },
  {
   "cell_type": "code",
   "execution_count": 119,
   "metadata": {},
   "outputs": [],
   "source": [
    "# schools_summary_df[\"PSB\"] = schools_summary_df[\"Per Student Budget\"].replace({'$':''}), regex = True\n",
    "# schools_summary_df[\"PSB\"] = schools_summary_df[\"Per Student Budget\"].astype(str).astype(int)\n",
    "# schools_summary_df[\"PSB\"]\n",
    "\n",
    "# kept getting errors with trying to change dtypes\n",
    "# abandoned\n"
   ]
  },
  {
   "cell_type": "markdown",
   "metadata": {},
   "source": [
    "### BINS AND LABELS SET UP"
   ]
  },
  {
   "cell_type": "code",
   "execution_count": 120,
   "metadata": {},
   "outputs": [],
   "source": [
    "bins = [ 575, 600, 625, 650, 675]\n",
    "group_names = [\"<$600\", \"$600 - $625\", \"$625 - $650\", \"$650 - $675\"]"
   ]
  },
  {
   "cell_type": "code",
   "execution_count": 121,
   "metadata": {},
   "outputs": [],
   "source": [
    "# schools_summary_df[\"Per School Per Student Budget\"] = pd.cut(schools_summary_df[\"Per Student Budget\"], bins, labels=group_names, include_lowest=True)\n",
    "# because budget columns were changed to object datatype after mapping\n",
    "# to show thousands of dollars, switching back to schools70_df2\n",
    "# which was created with change in dtypes\n",
    "# test cut with schools70_df2"
   ]
  },
  {
   "cell_type": "code",
   "execution_count": 122,
   "metadata": {
    "scrolled": true
   },
   "outputs": [],
   "source": [
    "# schools70_df2.head()\n",
    "# CRAP!  Did it again!  Did not pay attention that I added a column to the schools70_df2\n",
    "# after I did the cut!\n",
    "# need to make schools70_df4 to keep from altering schools70_df2"
   ]
  },
  {
   "cell_type": "code",
   "execution_count": 123,
   "metadata": {
    "scrolled": true
   },
   "outputs": [],
   "source": [
    "schools70_df4 = schools70_df2.copy()\n",
    "# to keep from adding column to schools70_df2\n",
    "# even this copy affects schools70_df2\n",
    "# make a new series out of schools70_df2 column and try slice \n",
    "# test_cut = schools70_df2[[\"Per Student Budget\"]]\n",
    "# test_cut.rename(columns={\"Per Student Budget\" : \"PSB\"})\n",
    "schools70_df4[\"PSB\"] = schools70_df4[\"Per Student Budget\"]\n",
    "# schools70_df4.head()"
   ]
  },
  {
   "cell_type": "code",
   "execution_count": 124,
   "metadata": {
    "scrolled": true
   },
   "outputs": [],
   "source": [
    "schools70_df4[\"per PSB\"] = pd.cut(schools70_df4[\"PSB\"], bins, labels=group_names, include_lowest=True)\n",
    "# schools70_df4[\"Per Student Budget\"]\n",
    "# schools70_df4[\"per PSB\"].value_counts()\n",
    "# STILL NOT THE NEEDED RESULTS"
   ]
  },
  {
   "cell_type": "code",
   "execution_count": 125,
   "metadata": {},
   "outputs": [],
   "source": [
    "# make another dataframe like schools_summary_df except with dtypes to allow cuts\n",
    "# kept getting errors when making schools_spending_df from schools_summary_df\n",
    "# need to generate from pd.DataFrame"
   ]
  },
  {
   "cell_type": "code",
   "execution_count": 126,
   "metadata": {
    "scrolled": true
   },
   "outputs": [
    {
     "data": {
      "text/plain": [
       "School Name\n",
       "Bailey High School      [628.0]\n",
       "Cabrera High School     [582.0]\n",
       "Figueroa High School    [639.0]\n",
       "Ford High School        [644.0]\n",
       "Griffin High School     [625.0]\n",
       "Name: Per Student Budget, dtype: object"
      ]
     },
     "execution_count": 126,
     "metadata": {},
     "output_type": "execute_result"
    }
   ],
   "source": [
    "per_student_budget1 = top_schools[\"Per Student Budget\"].unique()\n",
    "per_student_budget1.head()"
   ]
  },
  {
   "cell_type": "markdown",
   "metadata": {},
   "source": [
    "#### START OF PER STUDENT SPENDING DATAFRAME CREATION"
   ]
  },
  {
   "cell_type": "code",
   "execution_count": 127,
   "metadata": {
    "scrolled": false
   },
   "outputs": [
    {
     "data": {
      "text/html": [
       "<div>\n",
       "<style scoped>\n",
       "    .dataframe tbody tr th:only-of-type {\n",
       "        vertical-align: middle;\n",
       "    }\n",
       "\n",
       "    .dataframe tbody tr th {\n",
       "        vertical-align: top;\n",
       "    }\n",
       "\n",
       "    .dataframe thead th {\n",
       "        text-align: right;\n",
       "    }\n",
       "</style>\n",
       "<table border=\"1\" class=\"dataframe\">\n",
       "  <thead>\n",
       "    <tr style=\"text-align: right;\">\n",
       "      <th></th>\n",
       "      <th>Student_Budget</th>\n",
       "      <th>Average Math Score</th>\n",
       "      <th>Average Reading Score</th>\n",
       "      <th>% Passing Math</th>\n",
       "      <th>% Passing Reading</th>\n",
       "      <th>% Overall Passing</th>\n",
       "    </tr>\n",
       "    <tr>\n",
       "      <th>School Name</th>\n",
       "      <th></th>\n",
       "      <th></th>\n",
       "      <th></th>\n",
       "      <th></th>\n",
       "      <th></th>\n",
       "      <th></th>\n",
       "    </tr>\n",
       "  </thead>\n",
       "  <tbody>\n",
       "    <tr>\n",
       "      <th>Bailey High School</th>\n",
       "      <td>[628.0]</td>\n",
       "      <td>77.05</td>\n",
       "      <td>81.03</td>\n",
       "      <td>66.68</td>\n",
       "      <td>81.93</td>\n",
       "      <td>54.64</td>\n",
       "    </tr>\n",
       "    <tr>\n",
       "      <th>Cabrera High School</th>\n",
       "      <td>[582.0]</td>\n",
       "      <td>83.06</td>\n",
       "      <td>83.98</td>\n",
       "      <td>94.13</td>\n",
       "      <td>97.04</td>\n",
       "      <td>91.33</td>\n",
       "    </tr>\n",
       "    <tr>\n",
       "      <th>Figueroa High School</th>\n",
       "      <td>[639.0]</td>\n",
       "      <td>76.71</td>\n",
       "      <td>81.16</td>\n",
       "      <td>65.99</td>\n",
       "      <td>80.74</td>\n",
       "      <td>53.20</td>\n",
       "    </tr>\n",
       "    <tr>\n",
       "      <th>Ford High School</th>\n",
       "      <td>[644.0]</td>\n",
       "      <td>77.10</td>\n",
       "      <td>80.75</td>\n",
       "      <td>68.31</td>\n",
       "      <td>79.30</td>\n",
       "      <td>54.29</td>\n",
       "    </tr>\n",
       "    <tr>\n",
       "      <th>Griffin High School</th>\n",
       "      <td>[625.0]</td>\n",
       "      <td>83.35</td>\n",
       "      <td>83.82</td>\n",
       "      <td>93.39</td>\n",
       "      <td>97.14</td>\n",
       "      <td>90.60</td>\n",
       "    </tr>\n",
       "  </tbody>\n",
       "</table>\n",
       "</div>"
      ],
      "text/plain": [
       "                     Student_Budget  Average Math Score  \\\n",
       "School Name                                               \n",
       "Bailey High School          [628.0]               77.05   \n",
       "Cabrera High School         [582.0]               83.06   \n",
       "Figueroa High School        [639.0]               76.71   \n",
       "Ford High School            [644.0]               77.10   \n",
       "Griffin High School         [625.0]               83.35   \n",
       "\n",
       "                      Average Reading Score  % Passing Math  \\\n",
       "School Name                                                   \n",
       "Bailey High School                    81.03           66.68   \n",
       "Cabrera High School                   83.98           94.13   \n",
       "Figueroa High School                  81.16           65.99   \n",
       "Ford High School                      80.75           68.31   \n",
       "Griffin High School                   83.82           93.39   \n",
       "\n",
       "                      % Passing Reading  % Overall Passing  \n",
       "School Name                                                 \n",
       "Bailey High School                81.93              54.64  \n",
       "Cabrera High School               97.04              91.33  \n",
       "Figueroa High School              80.74              53.20  \n",
       "Ford High School                  79.30              54.29  \n",
       "Griffin High School               97.14              90.60  "
      ]
     },
     "execution_count": 127,
     "metadata": {},
     "output_type": "execute_result"
    }
   ],
   "source": [
    "schools_spending_df = pd.DataFrame({\n",
    "                                   \"Student_Budget\": per_student_budget1,\n",
    "                                   \"Average Math Score\" : round(top_schools1[\"math_score\"].mean(),2),\n",
    "                                   \"Average Reading Score\" : round(top_schools1[\"reading_score\"].mean(),2),\n",
    "                                   \"% Passing Math\"  : round(top_school_percent_passed_math, 2),\n",
    "                                   \"% Passing Reading\" : round(top_school_percent_passed_reading, 2),\n",
    "                                   \"% Overall Passing\" : round(top_school_percent_passed_both, 2) \n",
    "                                  })\n",
    "schools_spending_df.head()"
   ]
  },
  {
   "cell_type": "code",
   "execution_count": 128,
   "metadata": {
    "scrolled": true
   },
   "outputs": [],
   "source": [
    "schools_spending_df[\"Spending Range per Student\"] = pd.cut(schools_spending_df[\"Student_Budget\"], bins, labels=group_names, include_lowest=True)\n",
    "# schools70_df4[\"Per Student Budget\"]\n",
    "# schools_spending_df[\"Spending Range per Student\"].value_counts()"
   ]
  },
  {
   "cell_type": "code",
   "execution_count": 129,
   "metadata": {
    "scrolled": false
   },
   "outputs": [
    {
     "data": {
      "text/html": [
       "<div>\n",
       "<style scoped>\n",
       "    .dataframe tbody tr th:only-of-type {\n",
       "        vertical-align: middle;\n",
       "    }\n",
       "\n",
       "    .dataframe tbody tr th {\n",
       "        vertical-align: top;\n",
       "    }\n",
       "\n",
       "    .dataframe thead th {\n",
       "        text-align: right;\n",
       "    }\n",
       "</style>\n",
       "<table border=\"1\" class=\"dataframe\">\n",
       "  <thead>\n",
       "    <tr style=\"text-align: right;\">\n",
       "      <th></th>\n",
       "      <th>Student_Budget</th>\n",
       "      <th>Average Math Score</th>\n",
       "      <th>Average Reading Score</th>\n",
       "      <th>% Passing Math</th>\n",
       "      <th>% Passing Reading</th>\n",
       "      <th>% Overall Passing</th>\n",
       "      <th>Spending Range per Student</th>\n",
       "    </tr>\n",
       "    <tr>\n",
       "      <th>School Name</th>\n",
       "      <th></th>\n",
       "      <th></th>\n",
       "      <th></th>\n",
       "      <th></th>\n",
       "      <th></th>\n",
       "      <th></th>\n",
       "      <th></th>\n",
       "    </tr>\n",
       "  </thead>\n",
       "  <tbody>\n",
       "    <tr>\n",
       "      <th>Bailey High School</th>\n",
       "      <td>[628.0]</td>\n",
       "      <td>77.05</td>\n",
       "      <td>81.03</td>\n",
       "      <td>66.68</td>\n",
       "      <td>81.93</td>\n",
       "      <td>54.64</td>\n",
       "      <td>$625 - $650</td>\n",
       "    </tr>\n",
       "    <tr>\n",
       "      <th>Cabrera High School</th>\n",
       "      <td>[582.0]</td>\n",
       "      <td>83.06</td>\n",
       "      <td>83.98</td>\n",
       "      <td>94.13</td>\n",
       "      <td>97.04</td>\n",
       "      <td>91.33</td>\n",
       "      <td>&lt;$600</td>\n",
       "    </tr>\n",
       "    <tr>\n",
       "      <th>Figueroa High School</th>\n",
       "      <td>[639.0]</td>\n",
       "      <td>76.71</td>\n",
       "      <td>81.16</td>\n",
       "      <td>65.99</td>\n",
       "      <td>80.74</td>\n",
       "      <td>53.20</td>\n",
       "      <td>$625 - $650</td>\n",
       "    </tr>\n",
       "    <tr>\n",
       "      <th>Ford High School</th>\n",
       "      <td>[644.0]</td>\n",
       "      <td>77.10</td>\n",
       "      <td>80.75</td>\n",
       "      <td>68.31</td>\n",
       "      <td>79.30</td>\n",
       "      <td>54.29</td>\n",
       "      <td>$625 - $650</td>\n",
       "    </tr>\n",
       "    <tr>\n",
       "      <th>Griffin High School</th>\n",
       "      <td>[625.0]</td>\n",
       "      <td>83.35</td>\n",
       "      <td>83.82</td>\n",
       "      <td>93.39</td>\n",
       "      <td>97.14</td>\n",
       "      <td>90.60</td>\n",
       "      <td>$600 - $625</td>\n",
       "    </tr>\n",
       "  </tbody>\n",
       "</table>\n",
       "</div>"
      ],
      "text/plain": [
       "                     Student_Budget  Average Math Score  \\\n",
       "School Name                                               \n",
       "Bailey High School          [628.0]               77.05   \n",
       "Cabrera High School         [582.0]               83.06   \n",
       "Figueroa High School        [639.0]               76.71   \n",
       "Ford High School            [644.0]               77.10   \n",
       "Griffin High School         [625.0]               83.35   \n",
       "\n",
       "                      Average Reading Score  % Passing Math  \\\n",
       "School Name                                                   \n",
       "Bailey High School                    81.03           66.68   \n",
       "Cabrera High School                   83.98           94.13   \n",
       "Figueroa High School                  81.16           65.99   \n",
       "Ford High School                      80.75           68.31   \n",
       "Griffin High School                   83.82           93.39   \n",
       "\n",
       "                      % Passing Reading  % Overall Passing  \\\n",
       "School Name                                                  \n",
       "Bailey High School                81.93              54.64   \n",
       "Cabrera High School               97.04              91.33   \n",
       "Figueroa High School              80.74              53.20   \n",
       "Ford High School                  79.30              54.29   \n",
       "Griffin High School               97.14              90.60   \n",
       "\n",
       "                     Spending Range per Student  \n",
       "School Name                                      \n",
       "Bailey High School                  $625 - $650  \n",
       "Cabrera High School                       <$600  \n",
       "Figueroa High School                $625 - $650  \n",
       "Ford High School                    $625 - $650  \n",
       "Griffin High School                 $600 - $625  "
      ]
     },
     "execution_count": 129,
     "metadata": {},
     "output_type": "execute_result"
    }
   ],
   "source": [
    "schools_spending_df.head()"
   ]
  },
  {
   "cell_type": "markdown",
   "metadata": {},
   "source": [
    "### SCORES BY SCHOOL SPENDING RESULTS DATAFRAME"
   ]
  },
  {
   "cell_type": "code",
   "execution_count": 130,
   "metadata": {},
   "outputs": [
    {
     "data": {
      "text/html": [
       "<div>\n",
       "<style scoped>\n",
       "    .dataframe tbody tr th:only-of-type {\n",
       "        vertical-align: middle;\n",
       "    }\n",
       "\n",
       "    .dataframe tbody tr th {\n",
       "        vertical-align: top;\n",
       "    }\n",
       "\n",
       "    .dataframe thead th {\n",
       "        text-align: right;\n",
       "    }\n",
       "</style>\n",
       "<table border=\"1\" class=\"dataframe\">\n",
       "  <thead>\n",
       "    <tr style=\"text-align: right;\">\n",
       "      <th></th>\n",
       "      <th>Average Math Score</th>\n",
       "      <th>Average Reading Score</th>\n",
       "      <th>% Passing Math</th>\n",
       "      <th>% Passing Reading</th>\n",
       "      <th>% Overall Passing</th>\n",
       "    </tr>\n",
       "    <tr>\n",
       "      <th>Spending Range per Student</th>\n",
       "      <th></th>\n",
       "      <th></th>\n",
       "      <th></th>\n",
       "      <th></th>\n",
       "      <th></th>\n",
       "    </tr>\n",
       "  </thead>\n",
       "  <tbody>\n",
       "    <tr>\n",
       "      <th>&lt;$600</th>\n",
       "      <td>83.43</td>\n",
       "      <td>83.89</td>\n",
       "      <td>93.54</td>\n",
       "      <td>96.46</td>\n",
       "      <td>90.27</td>\n",
       "    </tr>\n",
       "    <tr>\n",
       "      <th>$600 - $625</th>\n",
       "      <td>83.60</td>\n",
       "      <td>83.93</td>\n",
       "      <td>93.99</td>\n",
       "      <td>96.54</td>\n",
       "      <td>90.57</td>\n",
       "    </tr>\n",
       "    <tr>\n",
       "      <th>$625 - $650</th>\n",
       "      <td>78.03</td>\n",
       "      <td>81.42</td>\n",
       "      <td>71.11</td>\n",
       "      <td>83.45</td>\n",
       "      <td>59.94</td>\n",
       "    </tr>\n",
       "    <tr>\n",
       "      <th>$650 - $675</th>\n",
       "      <td>76.96</td>\n",
       "      <td>81.06</td>\n",
       "      <td>66.22</td>\n",
       "      <td>81.09</td>\n",
       "      <td>53.52</td>\n",
       "    </tr>\n",
       "  </tbody>\n",
       "</table>\n",
       "</div>"
      ],
      "text/plain": [
       "                            Average Math Score  Average Reading Score  \\\n",
       "Spending Range per Student                                              \n",
       "<$600                                    83.43                  83.89   \n",
       "$600 - $625                              83.60                  83.93   \n",
       "$625 - $650                              78.03                  81.42   \n",
       "$650 - $675                              76.96                  81.06   \n",
       "\n",
       "                            % Passing Math  % Passing Reading  \\\n",
       "Spending Range per Student                                      \n",
       "<$600                                93.54              96.46   \n",
       "$600 - $625                          93.99              96.54   \n",
       "$625 - $650                          71.11              83.45   \n",
       "$650 - $675                          66.22              81.09   \n",
       "\n",
       "                            % Overall Passing  \n",
       "Spending Range per Student                     \n",
       "<$600                                   90.27  \n",
       "$600 - $625                             90.57  \n",
       "$625 - $650                             59.94  \n",
       "$650 - $675                             53.52  "
      ]
     },
     "execution_count": 130,
     "metadata": {},
     "output_type": "execute_result"
    }
   ],
   "source": [
    "grouped_schools_spending_df = round(schools_spending_df.groupby(\"Spending Range per Student\").mean(),2)\n",
    "grouped_schools_spending_df"
   ]
  },
  {
   "cell_type": "code",
   "execution_count": 131,
   "metadata": {},
   "outputs": [],
   "source": [
    "# FOR CONVENIENCE\n",
    "# schools70_df2"
   ]
  },
  {
   "cell_type": "markdown",
   "metadata": {},
   "source": [
    "## Scores by School Size"
   ]
  },
  {
   "cell_type": "markdown",
   "metadata": {},
   "source": [
    "* Perform the same operations as above, based on school size."
   ]
  },
  {
   "cell_type": "code",
   "execution_count": 132,
   "metadata": {
    "scrolled": true
   },
   "outputs": [],
   "source": [
    "total_students_top_schools = top_schools1[\"Total Students\"].count()\n",
    "# total_students_top_schools.head()"
   ]
  },
  {
   "cell_type": "code",
   "execution_count": 133,
   "metadata": {
    "scrolled": false
   },
   "outputs": [],
   "source": [
    "# schools70_df2[\"Total Students\"].value_counts()"
   ]
  },
  {
   "cell_type": "markdown",
   "metadata": {},
   "source": [
    "### BIN SIZE DETERMINATION AND LABEL ASSIGNMENTS"
   ]
  },
  {
   "cell_type": "code",
   "execution_count": 134,
   "metadata": {},
   "outputs": [],
   "source": [
    "# school size range: from 4976 - 427 = 4549, 5000 - 400 = 4600\n",
    "# roughly 3 bins of 1800: 200 + 1800 = 2000, 2000 + 1500 = 3500, 3500 + 1500 = 5000"
   ]
  },
  {
   "cell_type": "code",
   "execution_count": 135,
   "metadata": {},
   "outputs": [],
   "source": [
    "bins_school_size = [ 200, 2000, 3500, 5000]\n",
    "group_names_school_size = [\"Small (<1500)\", \"Medium (1500 - 3000)\", \"Large (>3000)\"]"
   ]
  },
  {
   "cell_type": "markdown",
   "metadata": {},
   "source": [
    "### INITIAL SCHOOL SIZE DATAFRAME"
   ]
  },
  {
   "cell_type": "code",
   "execution_count": 136,
   "metadata": {
    "scrolled": true
   },
   "outputs": [
    {
     "data": {
      "text/html": [
       "<div>\n",
       "<style scoped>\n",
       "    .dataframe tbody tr th:only-of-type {\n",
       "        vertical-align: middle;\n",
       "    }\n",
       "\n",
       "    .dataframe tbody tr th {\n",
       "        vertical-align: top;\n",
       "    }\n",
       "\n",
       "    .dataframe thead th {\n",
       "        text-align: right;\n",
       "    }\n",
       "</style>\n",
       "<table border=\"1\" class=\"dataframe\">\n",
       "  <thead>\n",
       "    <tr style=\"text-align: right;\">\n",
       "      <th></th>\n",
       "      <th>School Size</th>\n",
       "      <th>Average Math Score</th>\n",
       "      <th>Average Reading Score</th>\n",
       "      <th>% Passing Math</th>\n",
       "      <th>% Passing Reading</th>\n",
       "      <th>% Overall Passing</th>\n",
       "    </tr>\n",
       "    <tr>\n",
       "      <th>School Name</th>\n",
       "      <th></th>\n",
       "      <th></th>\n",
       "      <th></th>\n",
       "      <th></th>\n",
       "      <th></th>\n",
       "      <th></th>\n",
       "    </tr>\n",
       "  </thead>\n",
       "  <tbody>\n",
       "    <tr>\n",
       "      <th>Bailey High School</th>\n",
       "      <td>4976</td>\n",
       "      <td>77.05</td>\n",
       "      <td>81.03</td>\n",
       "      <td>66.68</td>\n",
       "      <td>81.93</td>\n",
       "      <td>54.64</td>\n",
       "    </tr>\n",
       "    <tr>\n",
       "      <th>Cabrera High School</th>\n",
       "      <td>1858</td>\n",
       "      <td>83.06</td>\n",
       "      <td>83.98</td>\n",
       "      <td>94.13</td>\n",
       "      <td>97.04</td>\n",
       "      <td>91.33</td>\n",
       "    </tr>\n",
       "    <tr>\n",
       "      <th>Figueroa High School</th>\n",
       "      <td>2949</td>\n",
       "      <td>76.71</td>\n",
       "      <td>81.16</td>\n",
       "      <td>65.99</td>\n",
       "      <td>80.74</td>\n",
       "      <td>53.20</td>\n",
       "    </tr>\n",
       "    <tr>\n",
       "      <th>Ford High School</th>\n",
       "      <td>2739</td>\n",
       "      <td>77.10</td>\n",
       "      <td>80.75</td>\n",
       "      <td>68.31</td>\n",
       "      <td>79.30</td>\n",
       "      <td>54.29</td>\n",
       "    </tr>\n",
       "    <tr>\n",
       "      <th>Griffin High School</th>\n",
       "      <td>1468</td>\n",
       "      <td>83.35</td>\n",
       "      <td>83.82</td>\n",
       "      <td>93.39</td>\n",
       "      <td>97.14</td>\n",
       "      <td>90.60</td>\n",
       "    </tr>\n",
       "  </tbody>\n",
       "</table>\n",
       "</div>"
      ],
      "text/plain": [
       "                      School Size  Average Math Score  Average Reading Score  \\\n",
       "School Name                                                                    \n",
       "Bailey High School           4976               77.05                  81.03   \n",
       "Cabrera High School          1858               83.06                  83.98   \n",
       "Figueroa High School         2949               76.71                  81.16   \n",
       "Ford High School             2739               77.10                  80.75   \n",
       "Griffin High School          1468               83.35                  83.82   \n",
       "\n",
       "                      % Passing Math  % Passing Reading  % Overall Passing  \n",
       "School Name                                                                 \n",
       "Bailey High School             66.68              81.93              54.64  \n",
       "Cabrera High School            94.13              97.04              91.33  \n",
       "Figueroa High School           65.99              80.74              53.20  \n",
       "Ford High School               68.31              79.30              54.29  \n",
       "Griffin High School            93.39              97.14              90.60  "
      ]
     },
     "execution_count": 136,
     "metadata": {},
     "output_type": "execute_result"
    }
   ],
   "source": [
    "schools_size_df = pd.DataFrame({\"School Size\": total_students_top_schools,\n",
    "                                \"Average Math Score\" : round(top_schools1[\"math_score\"].mean(),2),\n",
    "                                \"Average Reading Score\" : round(top_schools1[\"reading_score\"].mean(),2),\n",
    "                                \"% Passing Math\"  : round(top_school_percent_passed_math, 2),\n",
    "                                \"% Passing Reading\" : round(top_school_percent_passed_reading, 2),\n",
    "                                \"% Overall Passing\" : round(top_school_percent_passed_both, 2)\n",
    "                                  })\n",
    "schools_size_df.head()"
   ]
  },
  {
   "cell_type": "code",
   "execution_count": 137,
   "metadata": {},
   "outputs": [
    {
     "data": {
      "text/plain": [
       "Small (<1500)           7\n",
       "Medium (1500 - 3000)    4\n",
       "Large (>3000)           4\n",
       "Name: School Size Averages, dtype: int64"
      ]
     },
     "execution_count": 137,
     "metadata": {},
     "output_type": "execute_result"
    }
   ],
   "source": [
    "schools_size_df[\"School Size Averages\"] = pd.cut(schools_size_df[\"School Size\"], bins_school_size, labels=group_names_school_size, include_lowest=True)\n",
    "schools_size_df[\"School Size Averages\"].value_counts()"
   ]
  },
  {
   "cell_type": "code",
   "execution_count": 138,
   "metadata": {
    "scrolled": true
   },
   "outputs": [
    {
     "data": {
      "text/html": [
       "<div>\n",
       "<style scoped>\n",
       "    .dataframe tbody tr th:only-of-type {\n",
       "        vertical-align: middle;\n",
       "    }\n",
       "\n",
       "    .dataframe tbody tr th {\n",
       "        vertical-align: top;\n",
       "    }\n",
       "\n",
       "    .dataframe thead th {\n",
       "        text-align: right;\n",
       "    }\n",
       "</style>\n",
       "<table border=\"1\" class=\"dataframe\">\n",
       "  <thead>\n",
       "    <tr style=\"text-align: right;\">\n",
       "      <th></th>\n",
       "      <th>School Size</th>\n",
       "      <th>Average Math Score</th>\n",
       "      <th>Average Reading Score</th>\n",
       "      <th>% Passing Math</th>\n",
       "      <th>% Passing Reading</th>\n",
       "      <th>% Overall Passing</th>\n",
       "      <th>School Size Averages</th>\n",
       "    </tr>\n",
       "    <tr>\n",
       "      <th>School Name</th>\n",
       "      <th></th>\n",
       "      <th></th>\n",
       "      <th></th>\n",
       "      <th></th>\n",
       "      <th></th>\n",
       "      <th></th>\n",
       "      <th></th>\n",
       "    </tr>\n",
       "  </thead>\n",
       "  <tbody>\n",
       "    <tr>\n",
       "      <th>Bailey High School</th>\n",
       "      <td>4976</td>\n",
       "      <td>77.05</td>\n",
       "      <td>81.03</td>\n",
       "      <td>66.68</td>\n",
       "      <td>81.93</td>\n",
       "      <td>54.64</td>\n",
       "      <td>Large (&gt;3000)</td>\n",
       "    </tr>\n",
       "    <tr>\n",
       "      <th>Cabrera High School</th>\n",
       "      <td>1858</td>\n",
       "      <td>83.06</td>\n",
       "      <td>83.98</td>\n",
       "      <td>94.13</td>\n",
       "      <td>97.04</td>\n",
       "      <td>91.33</td>\n",
       "      <td>Small (&lt;1500)</td>\n",
       "    </tr>\n",
       "    <tr>\n",
       "      <th>Figueroa High School</th>\n",
       "      <td>2949</td>\n",
       "      <td>76.71</td>\n",
       "      <td>81.16</td>\n",
       "      <td>65.99</td>\n",
       "      <td>80.74</td>\n",
       "      <td>53.20</td>\n",
       "      <td>Medium (1500 - 3000)</td>\n",
       "    </tr>\n",
       "    <tr>\n",
       "      <th>Ford High School</th>\n",
       "      <td>2739</td>\n",
       "      <td>77.10</td>\n",
       "      <td>80.75</td>\n",
       "      <td>68.31</td>\n",
       "      <td>79.30</td>\n",
       "      <td>54.29</td>\n",
       "      <td>Medium (1500 - 3000)</td>\n",
       "    </tr>\n",
       "    <tr>\n",
       "      <th>Griffin High School</th>\n",
       "      <td>1468</td>\n",
       "      <td>83.35</td>\n",
       "      <td>83.82</td>\n",
       "      <td>93.39</td>\n",
       "      <td>97.14</td>\n",
       "      <td>90.60</td>\n",
       "      <td>Small (&lt;1500)</td>\n",
       "    </tr>\n",
       "  </tbody>\n",
       "</table>\n",
       "</div>"
      ],
      "text/plain": [
       "                      School Size  Average Math Score  Average Reading Score  \\\n",
       "School Name                                                                    \n",
       "Bailey High School           4976               77.05                  81.03   \n",
       "Cabrera High School          1858               83.06                  83.98   \n",
       "Figueroa High School         2949               76.71                  81.16   \n",
       "Ford High School             2739               77.10                  80.75   \n",
       "Griffin High School          1468               83.35                  83.82   \n",
       "\n",
       "                      % Passing Math  % Passing Reading  % Overall Passing  \\\n",
       "School Name                                                                  \n",
       "Bailey High School             66.68              81.93              54.64   \n",
       "Cabrera High School            94.13              97.04              91.33   \n",
       "Figueroa High School           65.99              80.74              53.20   \n",
       "Ford High School               68.31              79.30              54.29   \n",
       "Griffin High School            93.39              97.14              90.60   \n",
       "\n",
       "                      School Size Averages  \n",
       "School Name                                 \n",
       "Bailey High School           Large (>3000)  \n",
       "Cabrera High School          Small (<1500)  \n",
       "Figueroa High School  Medium (1500 - 3000)  \n",
       "Ford High School      Medium (1500 - 3000)  \n",
       "Griffin High School          Small (<1500)  "
      ]
     },
     "execution_count": 138,
     "metadata": {},
     "output_type": "execute_result"
    }
   ],
   "source": [
    "schools_size_df.head()"
   ]
  },
  {
   "cell_type": "markdown",
   "metadata": {},
   "source": [
    "### FINAL SCORES BY SCHOOL SIZE RESULTS DATAFRAME "
   ]
  },
  {
   "cell_type": "code",
   "execution_count": 139,
   "metadata": {
    "scrolled": true
   },
   "outputs": [
    {
     "data": {
      "text/html": [
       "<div>\n",
       "<style scoped>\n",
       "    .dataframe tbody tr th:only-of-type {\n",
       "        vertical-align: middle;\n",
       "    }\n",
       "\n",
       "    .dataframe tbody tr th {\n",
       "        vertical-align: top;\n",
       "    }\n",
       "\n",
       "    .dataframe thead th {\n",
       "        text-align: right;\n",
       "    }\n",
       "</style>\n",
       "<table border=\"1\" class=\"dataframe\">\n",
       "  <thead>\n",
       "    <tr style=\"text-align: right;\">\n",
       "      <th></th>\n",
       "      <th>Average Math Score</th>\n",
       "      <th>Average Reading Score</th>\n",
       "      <th>% Passing Math</th>\n",
       "      <th>% Passing Reading</th>\n",
       "      <th>% Overall Passing</th>\n",
       "    </tr>\n",
       "    <tr>\n",
       "      <th>School Size Averages</th>\n",
       "      <th></th>\n",
       "      <th></th>\n",
       "      <th></th>\n",
       "      <th></th>\n",
       "      <th></th>\n",
       "    </tr>\n",
       "  </thead>\n",
       "  <tbody>\n",
       "    <tr>\n",
       "      <th>Small (&lt;1500)</th>\n",
       "      <td>83.50</td>\n",
       "      <td>83.88</td>\n",
       "      <td>93.58</td>\n",
       "      <td>96.59</td>\n",
       "      <td>90.41</td>\n",
       "    </tr>\n",
       "    <tr>\n",
       "      <th>Medium (1500 - 3000)</th>\n",
       "      <td>78.43</td>\n",
       "      <td>81.77</td>\n",
       "      <td>73.46</td>\n",
       "      <td>84.48</td>\n",
       "      <td>62.90</td>\n",
       "    </tr>\n",
       "    <tr>\n",
       "      <th>Large (&gt;3000)</th>\n",
       "      <td>77.06</td>\n",
       "      <td>80.92</td>\n",
       "      <td>66.46</td>\n",
       "      <td>81.06</td>\n",
       "      <td>53.68</td>\n",
       "    </tr>\n",
       "  </tbody>\n",
       "</table>\n",
       "</div>"
      ],
      "text/plain": [
       "                      Average Math Score  Average Reading Score  \\\n",
       "School Size Averages                                              \n",
       "Small (<1500)                      83.50                  83.88   \n",
       "Medium (1500 - 3000)               78.43                  81.77   \n",
       "Large (>3000)                      77.06                  80.92   \n",
       "\n",
       "                      % Passing Math  % Passing Reading  % Overall Passing  \n",
       "School Size Averages                                                        \n",
       "Small (<1500)                  93.58              96.59              90.41  \n",
       "Medium (1500 - 3000)           73.46              84.48              62.90  \n",
       "Large (>3000)                  66.46              81.06              53.68  "
      ]
     },
     "execution_count": 139,
     "metadata": {},
     "output_type": "execute_result"
    }
   ],
   "source": [
    "school_size_averages_df = schools_size_df[[\"School Size Averages\", \"Average Math Score\",\n",
    "                                          \"Average Reading Score\", \"% Passing Math\",\n",
    "                                          \"% Passing Reading\", \"% Overall Passing\"]]\n",
    "grouped_school_size_averages_df = round(school_size_averages_df.groupby([\"School Size Averages\"]).mean(),2)\n",
    "grouped_school_size_averages_df"
   ]
  },
  {
   "cell_type": "markdown",
   "metadata": {},
   "source": [
    "## Scores by School Type"
   ]
  },
  {
   "cell_type": "markdown",
   "metadata": {},
   "source": [
    "* Perform the same operations as above, based on school type"
   ]
  },
  {
   "cell_type": "code",
   "execution_count": 140,
   "metadata": {
    "scrolled": false
   },
   "outputs": [],
   "source": [
    "top_schools_type1 = top_schools1[\"School Type\"]\n",
    "# top_schools_type1.value_counts()"
   ]
  },
  {
   "cell_type": "code",
   "execution_count": 141,
   "metadata": {},
   "outputs": [],
   "source": [
    "# INITIALLY TRIED TO USE EVERYTHING FROM PREVIOUS RESULTS DATAFRAME AND TAILOR IT TO GET ONE SCHOOL TYPE \n",
    "# TRIED TO SET UP BINNING FOR SCHOOL TYPE, BUT COULD NOT GET IT TO WORK\n",
    "# EVEN AFTER I CREATED INTEGER VALUES TO REPRESENT THE OBJECT DTYPES FOR \"CHARTER\" AND \"DISTRICT\"\n",
    "# REPEATED PREVIOUS SOLUTION DATAFRAME FOR CONVENIENCE \n",
    "# school_size_averages_df.head()"
   ]
  },
  {
   "cell_type": "code",
   "execution_count": 142,
   "metadata": {},
   "outputs": [],
   "source": [
    "schools70_df5 = schools70_df2.copy()\n",
    "# schools70_df5.head()"
   ]
  },
  {
   "cell_type": "code",
   "execution_count": 143,
   "metadata": {},
   "outputs": [],
   "source": [
    "# school_size_averages_df.count()"
   ]
  },
  {
   "cell_type": "code",
   "execution_count": 144,
   "metadata": {},
   "outputs": [],
   "source": [
    "# print(schools70_df5[\"School Type\"][39165])"
   ]
  },
  {
   "cell_type": "code",
   "execution_count": 145,
   "metadata": {},
   "outputs": [],
   "source": [
    "# print(schools70_df5[\"School Type\"][29117])"
   ]
  },
  {
   "cell_type": "code",
   "execution_count": 146,
   "metadata": {},
   "outputs": [],
   "source": [
    "schools70_type = [schools70_df5[\"School Type\"]]"
   ]
  },
  {
   "cell_type": "code",
   "execution_count": 147,
   "metadata": {
    "scrolled": true
   },
   "outputs": [],
   "source": [
    "# print(schools70_type)"
   ]
  },
  {
   "cell_type": "code",
   "execution_count": 148,
   "metadata": {
    "scrolled": true
   },
   "outputs": [],
   "source": [
    "# type(schools70_type)"
   ]
  },
  {
   "cell_type": "code",
   "execution_count": 149,
   "metadata": {
    "scrolled": false
   },
   "outputs": [],
   "source": [
    "schools70_df5[\"School Type Des\"] = schools70_df5[\"School Type\"]\n",
    "# schools70_df5.head().set_index(\"School Type\")"
   ]
  },
  {
   "cell_type": "code",
   "execution_count": 150,
   "metadata": {},
   "outputs": [],
   "source": [
    "schools70_df5[\"School Type Des\"].replace({\"District\":969, \"Charter\": 970}, inplace = True)\n",
    "# schools70_df5.set_index(\"School Type Des\").head()"
   ]
  },
  {
   "cell_type": "code",
   "execution_count": 151,
   "metadata": {},
   "outputs": [],
   "source": [
    "# schools70_df5[\"School Type Des\"].dtype\n"
   ]
  },
  {
   "cell_type": "code",
   "execution_count": 152,
   "metadata": {},
   "outputs": [],
   "source": [
    "# schools70_df5.head()"
   ]
  },
  {
   "cell_type": "code",
   "execution_count": 153,
   "metadata": {},
   "outputs": [],
   "source": [
    "schools_type_group_test_df = schools70_df5.groupby([\"School Type Des\", \"School Type\"])[[\"math_score\", \"reading_score\"]].mean()\n",
    "# schools_type_group_test_df"
   ]
  },
  {
   "cell_type": "code",
   "execution_count": 154,
   "metadata": {},
   "outputs": [
    {
     "data": {
      "text/html": [
       "<div>\n",
       "<style scoped>\n",
       "    .dataframe tbody tr th:only-of-type {\n",
       "        vertical-align: middle;\n",
       "    }\n",
       "\n",
       "    .dataframe tbody tr th {\n",
       "        vertical-align: top;\n",
       "    }\n",
       "\n",
       "    .dataframe thead th {\n",
       "        text-align: right;\n",
       "    }\n",
       "</style>\n",
       "<table border=\"1\" class=\"dataframe\">\n",
       "  <thead>\n",
       "    <tr style=\"text-align: right;\">\n",
       "      <th></th>\n",
       "      <th>math_score</th>\n",
       "      <th>reading_score</th>\n",
       "    </tr>\n",
       "    <tr>\n",
       "      <th>School Type</th>\n",
       "      <th></th>\n",
       "      <th></th>\n",
       "    </tr>\n",
       "  </thead>\n",
       "  <tbody>\n",
       "    <tr>\n",
       "      <th>Charter</th>\n",
       "      <td>83.406183</td>\n",
       "      <td>83.902821</td>\n",
       "    </tr>\n",
       "    <tr>\n",
       "      <th>District</th>\n",
       "      <td>76.987026</td>\n",
       "      <td>80.962485</td>\n",
       "    </tr>\n",
       "  </tbody>\n",
       "</table>\n",
       "</div>"
      ],
      "text/plain": [
       "             math_score  reading_score\n",
       "School Type                           \n",
       "Charter       83.406183      83.902821\n",
       "District      76.987026      80.962485"
      ]
     },
     "execution_count": 154,
     "metadata": {},
     "output_type": "execute_result"
    }
   ],
   "source": [
    "# FIRST INDICATION THAT ONLY A GROUPBY WAS NEEDED WITHOUT THE BINNING\n",
    "schools_type_group_test_df = schools70_df5.groupby(\"School Type\")[[\"math_score\", \"reading_score\"]].mean()\n",
    "schools_type_group_test_df"
   ]
  },
  {
   "cell_type": "code",
   "execution_count": 155,
   "metadata": {},
   "outputs": [],
   "source": [
    "# schools_type_group_test1_df = schools70_df5.groupby(\"School Type\")[[\"Average Math Score\":\"math_score\"],\n",
    "#                                                                     [\"Average Reading Score\":\"reading_score\"]].mean()\n",
    "# schools_type_group_test1_df"
   ]
  },
  {
   "cell_type": "code",
   "execution_count": 156,
   "metadata": {},
   "outputs": [],
   "source": [
    "group_test1 = schools70_df5.groupby(\"School Type\").groups\n",
    "# print(group_test1)"
   ]
  },
  {
   "cell_type": "markdown",
   "metadata": {},
   "source": [
    "### START OF MAKING NEW DATAFRAME TO CLEAR GROUPBY KEY \"SCHOOL NAME\""
   ]
  },
  {
   "cell_type": "code",
   "execution_count": 157,
   "metadata": {},
   "outputs": [
    {
     "data": {
      "text/html": [
       "<div>\n",
       "<style scoped>\n",
       "    .dataframe tbody tr th:only-of-type {\n",
       "        vertical-align: middle;\n",
       "    }\n",
       "\n",
       "    .dataframe tbody tr th {\n",
       "        vertical-align: top;\n",
       "    }\n",
       "\n",
       "    .dataframe thead th {\n",
       "        text-align: right;\n",
       "    }\n",
       "</style>\n",
       "<table border=\"1\" class=\"dataframe\">\n",
       "  <thead>\n",
       "    <tr style=\"text-align: right;\">\n",
       "      <th></th>\n",
       "      <th>Student ID</th>\n",
       "      <th>student_name</th>\n",
       "      <th>gender</th>\n",
       "      <th>grade</th>\n",
       "      <th>school_name</th>\n",
       "      <th>reading_score</th>\n",
       "      <th>math_score</th>\n",
       "      <th>School ID</th>\n",
       "      <th>type</th>\n",
       "      <th>size</th>\n",
       "      <th>budget</th>\n",
       "    </tr>\n",
       "  </thead>\n",
       "  <tbody>\n",
       "    <tr>\n",
       "      <th>0</th>\n",
       "      <td>0</td>\n",
       "      <td>Paul Bradley</td>\n",
       "      <td>M</td>\n",
       "      <td>9th</td>\n",
       "      <td>Huang High School</td>\n",
       "      <td>66</td>\n",
       "      <td>79</td>\n",
       "      <td>0</td>\n",
       "      <td>District</td>\n",
       "      <td>2917</td>\n",
       "      <td>1910635</td>\n",
       "    </tr>\n",
       "    <tr>\n",
       "      <th>1</th>\n",
       "      <td>1</td>\n",
       "      <td>Victor Smith</td>\n",
       "      <td>M</td>\n",
       "      <td>12th</td>\n",
       "      <td>Huang High School</td>\n",
       "      <td>94</td>\n",
       "      <td>61</td>\n",
       "      <td>0</td>\n",
       "      <td>District</td>\n",
       "      <td>2917</td>\n",
       "      <td>1910635</td>\n",
       "    </tr>\n",
       "    <tr>\n",
       "      <th>2</th>\n",
       "      <td>2</td>\n",
       "      <td>Kevin Rodriguez</td>\n",
       "      <td>M</td>\n",
       "      <td>12th</td>\n",
       "      <td>Huang High School</td>\n",
       "      <td>90</td>\n",
       "      <td>60</td>\n",
       "      <td>0</td>\n",
       "      <td>District</td>\n",
       "      <td>2917</td>\n",
       "      <td>1910635</td>\n",
       "    </tr>\n",
       "    <tr>\n",
       "      <th>3</th>\n",
       "      <td>3</td>\n",
       "      <td>Dr. Richard Scott</td>\n",
       "      <td>M</td>\n",
       "      <td>12th</td>\n",
       "      <td>Huang High School</td>\n",
       "      <td>67</td>\n",
       "      <td>58</td>\n",
       "      <td>0</td>\n",
       "      <td>District</td>\n",
       "      <td>2917</td>\n",
       "      <td>1910635</td>\n",
       "    </tr>\n",
       "    <tr>\n",
       "      <th>4</th>\n",
       "      <td>4</td>\n",
       "      <td>Bonnie Ray</td>\n",
       "      <td>F</td>\n",
       "      <td>9th</td>\n",
       "      <td>Huang High School</td>\n",
       "      <td>97</td>\n",
       "      <td>84</td>\n",
       "      <td>0</td>\n",
       "      <td>District</td>\n",
       "      <td>2917</td>\n",
       "      <td>1910635</td>\n",
       "    </tr>\n",
       "  </tbody>\n",
       "</table>\n",
       "</div>"
      ],
      "text/plain": [
       "   Student ID       student_name gender grade        school_name  \\\n",
       "0           0       Paul Bradley      M   9th  Huang High School   \n",
       "1           1       Victor Smith      M  12th  Huang High School   \n",
       "2           2    Kevin Rodriguez      M  12th  Huang High School   \n",
       "3           3  Dr. Richard Scott      M  12th  Huang High School   \n",
       "4           4         Bonnie Ray      F   9th  Huang High School   \n",
       "\n",
       "   reading_score  math_score  School ID      type  size   budget  \n",
       "0             66          79          0  District  2917  1910635  \n",
       "1             94          61          0  District  2917  1910635  \n",
       "2             90          60          0  District  2917  1910635  \n",
       "3             67          58          0  District  2917  1910635  \n",
       "4             97          84          0  District  2917  1910635  "
      ]
     },
     "execution_count": 157,
     "metadata": {},
     "output_type": "execute_result"
    }
   ],
   "source": [
    "schools70_df6 = schools70_df1.copy()\n",
    "schools70_df6.head()"
   ]
  },
  {
   "cell_type": "code",
   "execution_count": 158,
   "metadata": {
    "scrolled": false
   },
   "outputs": [],
   "source": [
    "# previous groupby[\"School Name\"] keeps this index persistent even if the groupby did not work\n",
    "# See total_schools and total_schools1 dataframes.  They did not work to group anything, but the key used,\n",
    "# \"School Name\" stayed persistent throughout all the rest of the dataframes.\n",
    "# This prevented the groupby[\"School Type\"] from working as it should, and it made me go down rabbit holes\n",
    "# trying to bin and cut the two strings for school type.  I converted the object dtypes to int64 by\n",
    "# making each string to a numberic value (969, 970) to see I could get the bin and cut to work.\n",
    "# Ultimately, I had to completely rebuild a new dataframe in order to use groupby against \"School Type\"\n",
    "# This is the start of the rebuild.\n",
    "# schools70_df6.head()"
   ]
  },
  {
   "cell_type": "markdown",
   "metadata": {},
   "source": [
    "### NEW GROUPBY KEY \"SCHOOL TYPE\""
   ]
  },
  {
   "cell_type": "code",
   "execution_count": 159,
   "metadata": {
    "scrolled": true
   },
   "outputs": [
    {
     "data": {
      "text/html": [
       "<div>\n",
       "<style scoped>\n",
       "    .dataframe tbody tr th:only-of-type {\n",
       "        vertical-align: middle;\n",
       "    }\n",
       "\n",
       "    .dataframe tbody tr th {\n",
       "        vertical-align: top;\n",
       "    }\n",
       "\n",
       "    .dataframe thead th {\n",
       "        text-align: right;\n",
       "    }\n",
       "</style>\n",
       "<table border=\"1\" class=\"dataframe\">\n",
       "  <thead>\n",
       "    <tr style=\"text-align: right;\">\n",
       "      <th></th>\n",
       "      <th>Student ID</th>\n",
       "      <th>student_name</th>\n",
       "      <th>gender</th>\n",
       "      <th>grade</th>\n",
       "      <th>school_name</th>\n",
       "      <th>reading_score</th>\n",
       "      <th>math_score</th>\n",
       "      <th>School ID</th>\n",
       "      <th>type</th>\n",
       "      <th>size</th>\n",
       "      <th>budget</th>\n",
       "      <th>School Type</th>\n",
       "    </tr>\n",
       "  </thead>\n",
       "  <tbody>\n",
       "    <tr>\n",
       "      <th>0</th>\n",
       "      <td>0</td>\n",
       "      <td>Paul Bradley</td>\n",
       "      <td>M</td>\n",
       "      <td>9th</td>\n",
       "      <td>Huang High School</td>\n",
       "      <td>66</td>\n",
       "      <td>79</td>\n",
       "      <td>0</td>\n",
       "      <td>District</td>\n",
       "      <td>2917</td>\n",
       "      <td>1910635</td>\n",
       "      <td>District</td>\n",
       "    </tr>\n",
       "    <tr>\n",
       "      <th>1</th>\n",
       "      <td>1</td>\n",
       "      <td>Victor Smith</td>\n",
       "      <td>M</td>\n",
       "      <td>12th</td>\n",
       "      <td>Huang High School</td>\n",
       "      <td>94</td>\n",
       "      <td>61</td>\n",
       "      <td>0</td>\n",
       "      <td>District</td>\n",
       "      <td>2917</td>\n",
       "      <td>1910635</td>\n",
       "      <td>District</td>\n",
       "    </tr>\n",
       "    <tr>\n",
       "      <th>2</th>\n",
       "      <td>2</td>\n",
       "      <td>Kevin Rodriguez</td>\n",
       "      <td>M</td>\n",
       "      <td>12th</td>\n",
       "      <td>Huang High School</td>\n",
       "      <td>90</td>\n",
       "      <td>60</td>\n",
       "      <td>0</td>\n",
       "      <td>District</td>\n",
       "      <td>2917</td>\n",
       "      <td>1910635</td>\n",
       "      <td>District</td>\n",
       "    </tr>\n",
       "    <tr>\n",
       "      <th>3</th>\n",
       "      <td>3</td>\n",
       "      <td>Dr. Richard Scott</td>\n",
       "      <td>M</td>\n",
       "      <td>12th</td>\n",
       "      <td>Huang High School</td>\n",
       "      <td>67</td>\n",
       "      <td>58</td>\n",
       "      <td>0</td>\n",
       "      <td>District</td>\n",
       "      <td>2917</td>\n",
       "      <td>1910635</td>\n",
       "      <td>District</td>\n",
       "    </tr>\n",
       "    <tr>\n",
       "      <th>4</th>\n",
       "      <td>4</td>\n",
       "      <td>Bonnie Ray</td>\n",
       "      <td>F</td>\n",
       "      <td>9th</td>\n",
       "      <td>Huang High School</td>\n",
       "      <td>97</td>\n",
       "      <td>84</td>\n",
       "      <td>0</td>\n",
       "      <td>District</td>\n",
       "      <td>2917</td>\n",
       "      <td>1910635</td>\n",
       "      <td>District</td>\n",
       "    </tr>\n",
       "  </tbody>\n",
       "</table>\n",
       "</div>"
      ],
      "text/plain": [
       "   Student ID       student_name gender grade        school_name  \\\n",
       "0           0       Paul Bradley      M   9th  Huang High School   \n",
       "1           1       Victor Smith      M  12th  Huang High School   \n",
       "2           2    Kevin Rodriguez      M  12th  Huang High School   \n",
       "3           3  Dr. Richard Scott      M  12th  Huang High School   \n",
       "4           4         Bonnie Ray      F   9th  Huang High School   \n",
       "\n",
       "   reading_score  math_score  School ID      type  size   budget School Type  \n",
       "0             66          79          0  District  2917  1910635    District  \n",
       "1             94          61          0  District  2917  1910635    District  \n",
       "2             90          60          0  District  2917  1910635    District  \n",
       "3             67          58          0  District  2917  1910635    District  \n",
       "4             97          84          0  District  2917  1910635    District  "
      ]
     },
     "execution_count": 159,
     "metadata": {},
     "output_type": "execute_result"
    }
   ],
   "source": [
    "schools70_df6[\"School Type\"] = schools70_df6[\"type\"]\n",
    "schools70_df6.drop(columns=[\"type\"])\n",
    "# AFTER INITIALLY USED GROUPBY KEY \"TYPE\", IT WAS HARD TO CLEAR IT OUT OF THE DATAFRAME.\n",
    "# I LEFT IT IN RATHER THAN REDO EVERYTHING AND JUST MOVED THIS CODE BLOCK UP.\n",
    "schools70_df6.head()"
   ]
  },
  {
   "cell_type": "code",
   "execution_count": 160,
   "metadata": {
    "scrolled": true
   },
   "outputs": [],
   "source": [
    "group_type_df6 = schools70_df6.groupby([\"School Type\"])\n",
    "# group_type_df6.nunique()\n"
   ]
  },
  {
   "cell_type": "code",
   "execution_count": 161,
   "metadata": {},
   "outputs": [],
   "source": [
    "# group_type_df6.dtypes"
   ]
  },
  {
   "cell_type": "markdown",
   "metadata": {},
   "source": [
    "### START OF CALCULATIONS RERUN WITH NEW GROUPBY KEY \"SCHOOL TYPE\""
   ]
  },
  {
   "cell_type": "code",
   "execution_count": 162,
   "metadata": {},
   "outputs": [
    {
     "data": {
      "text/plain": [
       "School Type\n",
       "Charter     83.41\n",
       "District    76.99\n",
       "Name: math_score, dtype: float64"
      ]
     },
     "execution_count": 162,
     "metadata": {},
     "output_type": "execute_result"
    }
   ],
   "source": [
    "ave_math = round(group_type_df6[\"math_score\"].mean(),2)\n",
    "ave_math"
   ]
  },
  {
   "cell_type": "code",
   "execution_count": 163,
   "metadata": {
    "scrolled": true
   },
   "outputs": [
    {
     "data": {
      "text/plain": [
       "School Type\n",
       "Charter     83.90\n",
       "District    80.96\n",
       "Name: reading_score, dtype: float64"
      ]
     },
     "execution_count": 163,
     "metadata": {},
     "output_type": "execute_result"
    }
   ],
   "source": [
    "ave_read = round(group_type_df6[\"reading_score\"].mean(),2)\n",
    "ave_read"
   ]
  },
  {
   "cell_type": "code",
   "execution_count": 164,
   "metadata": {},
   "outputs": [],
   "source": [
    "schools70_df6[\"Pass Math\"] = schools70_df6[\"math_score\"] >= 70\n",
    "schools70_df6[\"Pass Read\"] = schools70_df6[\"reading_score\"] >= 70\n",
    "schools70_df6[\"Pass Both\"] = (schools70_df6[\"reading_score\"] >= 70) & (schools70_df6[\"math_score\"] >= 70)\n",
    "# THESE WERE CREATED TO CLEAR ERROR MESSAGE WHERE >= COULD NOT BE RECOGNIZED BETWEEN GROUPBY SERIES AND INT\n",
    "# schools70_df6.head()"
   ]
  },
  {
   "cell_type": "code",
   "execution_count": 165,
   "metadata": {
    "scrolled": true
   },
   "outputs": [],
   "source": [
    "# schools70_df6.rename(columns = {\"type\" : \"School Type\"})\n",
    "# schools70_df6.columns"
   ]
  },
  {
   "cell_type": "markdown",
   "metadata": {},
   "source": [
    "### CONTINUTATION OF CALCULATIONS AFTER USING NEW GROUPBY KEY \"SCHOOL TYPE\""
   ]
  },
  {
   "cell_type": "code",
   "execution_count": 166,
   "metadata": {},
   "outputs": [
    {
     "data": {
      "text/plain": [
       "School Type\n",
       "Charter     11426\n",
       "District    17944\n",
       "Name: Pass Math, dtype: int64"
      ]
     },
     "execution_count": 166,
     "metadata": {},
     "output_type": "execute_result"
    }
   ],
   "source": [
    "pass_math_df6 = group_type_df6[\"Pass Math\"].sum()\n",
    "pass_math_df6"
   ]
  },
  {
   "cell_type": "code",
   "execution_count": 167,
   "metadata": {},
   "outputs": [
    {
     "data": {
      "text/plain": [
       "School Type\n",
       "Charter     11785\n",
       "District    21825\n",
       "Name: Pass Read, dtype: int64"
      ]
     },
     "execution_count": 167,
     "metadata": {},
     "output_type": "execute_result"
    }
   ],
   "source": [
    "pass_read_df6 = group_type_df6[\"Pass Read\"].sum()\n",
    "pass_read_df6"
   ]
  },
  {
   "cell_type": "code",
   "execution_count": 168,
   "metadata": {},
   "outputs": [
    {
     "data": {
      "text/plain": [
       "School Type\n",
       "Charter     11043\n",
       "District    14485\n",
       "Name: Pass Both, dtype: int64"
      ]
     },
     "execution_count": 168,
     "metadata": {},
     "output_type": "execute_result"
    }
   ],
   "source": [
    "pass_both_df6 = group_type_df6[\"Pass Both\"].sum()\n",
    "pass_both_df6"
   ]
  },
  {
   "cell_type": "code",
   "execution_count": 169,
   "metadata": {},
   "outputs": [
    {
     "data": {
      "text/plain": [
       "School Type\n",
       "Charter     93.70\n",
       "District    66.52\n",
       "dtype: float64"
      ]
     },
     "execution_count": 169,
     "metadata": {},
     "output_type": "execute_result"
    }
   ],
   "source": [
    "per_math = round(((pass_math_df6 / (group_type_df6[\"Student ID\"].count())) * 100), 2)\n",
    "per_math"
   ]
  },
  {
   "cell_type": "code",
   "execution_count": 170,
   "metadata": {},
   "outputs": [
    {
     "data": {
      "text/plain": [
       "School Type\n",
       "Charter     96.65\n",
       "District    80.91\n",
       "dtype: float64"
      ]
     },
     "execution_count": 170,
     "metadata": {},
     "output_type": "execute_result"
    }
   ],
   "source": [
    "per_read = round(((pass_read_df6 / (group_type_df6[\"Student ID\"].count())) * 100), 2)\n",
    "per_read"
   ]
  },
  {
   "cell_type": "code",
   "execution_count": 171,
   "metadata": {
    "scrolled": true
   },
   "outputs": [
    {
     "data": {
      "text/plain": [
       "School Type\n",
       "Charter     90.56\n",
       "District    53.70\n",
       "dtype: float64"
      ]
     },
     "execution_count": 171,
     "metadata": {},
     "output_type": "execute_result"
    }
   ],
   "source": [
    "per_both = round(((pass_both_df6 / (group_type_df6[\"Student ID\"].count())) * 100), 2)\n",
    "per_both"
   ]
  },
  {
   "cell_type": "code",
   "execution_count": 172,
   "metadata": {},
   "outputs": [],
   "source": [
    "# \"School Type\": group_type_df6[\"type\"].unique(),"
   ]
  },
  {
   "cell_type": "code",
   "execution_count": 173,
   "metadata": {},
   "outputs": [],
   "source": [
    "# SUCCESS!!!"
   ]
  },
  {
   "cell_type": "markdown",
   "metadata": {},
   "source": [
    "### SCORES BY SCHOOL TYPE RESULTS DATAFRAME"
   ]
  },
  {
   "cell_type": "code",
   "execution_count": 174,
   "metadata": {
    "scrolled": false
   },
   "outputs": [
    {
     "data": {
      "text/html": [
       "<div>\n",
       "<style scoped>\n",
       "    .dataframe tbody tr th:only-of-type {\n",
       "        vertical-align: middle;\n",
       "    }\n",
       "\n",
       "    .dataframe tbody tr th {\n",
       "        vertical-align: top;\n",
       "    }\n",
       "\n",
       "    .dataframe thead th {\n",
       "        text-align: right;\n",
       "    }\n",
       "</style>\n",
       "<table border=\"1\" class=\"dataframe\">\n",
       "  <thead>\n",
       "    <tr style=\"text-align: right;\">\n",
       "      <th></th>\n",
       "      <th>Average Math Score</th>\n",
       "      <th>Average Reading Score</th>\n",
       "      <th>% Passing Math</th>\n",
       "      <th>% Passing Reading</th>\n",
       "      <th>% Overall Passing</th>\n",
       "    </tr>\n",
       "    <tr>\n",
       "      <th>School Type</th>\n",
       "      <th></th>\n",
       "      <th></th>\n",
       "      <th></th>\n",
       "      <th></th>\n",
       "      <th></th>\n",
       "    </tr>\n",
       "  </thead>\n",
       "  <tbody>\n",
       "    <tr>\n",
       "      <th>Charter</th>\n",
       "      <td>83.41</td>\n",
       "      <td>83.90</td>\n",
       "      <td>93.70</td>\n",
       "      <td>96.65</td>\n",
       "      <td>90.56</td>\n",
       "    </tr>\n",
       "    <tr>\n",
       "      <th>District</th>\n",
       "      <td>76.99</td>\n",
       "      <td>80.96</td>\n",
       "      <td>66.52</td>\n",
       "      <td>80.91</td>\n",
       "      <td>53.70</td>\n",
       "    </tr>\n",
       "  </tbody>\n",
       "</table>\n",
       "</div>"
      ],
      "text/plain": [
       "             Average Math Score  Average Reading Score  % Passing Math  \\\n",
       "School Type                                                              \n",
       "Charter                   83.41                  83.90           93.70   \n",
       "District                  76.99                  80.96           66.52   \n",
       "\n",
       "             % Passing Reading  % Overall Passing  \n",
       "School Type                                        \n",
       "Charter                  96.65              90.56  \n",
       "District                 80.91              53.70  "
      ]
     },
     "execution_count": 174,
     "metadata": {},
     "output_type": "execute_result"
    }
   ],
   "source": [
    "type_summary_df = pd.DataFrame({\n",
    "                                \"Average Math Score\": ave_math,\n",
    "                                \"Average Reading Score\": ave_read,\n",
    "                                \"% Passing Math\": per_math,\n",
    "                                \"% Passing Reading\": per_read,\n",
    "                                \"% Overall Passing\": per_both\n",
    "                               })\n",
    "type_summary_df.head()"
   ]
  },
  {
   "cell_type": "code",
   "execution_count": null,
   "metadata": {},
   "outputs": [],
   "source": []
  }
 ],
 "metadata": {
  "anaconda-cloud": {},
  "kernel_info": {
   "name": "python3"
  },
  "kernelspec": {
   "display_name": "Python 3 (ipykernel)",
   "language": "python",
   "name": "python3"
  },
  "language_info": {
   "codemirror_mode": {
    "name": "ipython",
    "version": 3
   },
   "file_extension": ".py",
   "mimetype": "text/x-python",
   "name": "python",
   "nbconvert_exporter": "python",
   "pygments_lexer": "ipython3",
   "version": "3.9.7"
  },
  "latex_envs": {
   "LaTeX_envs_menu_present": true,
   "autoclose": false,
   "autocomplete": true,
   "bibliofile": "biblio.bib",
   "cite_by": "apalike",
   "current_citInitial": 1,
   "eqLabelWithNumbers": true,
   "eqNumInitial": 1,
   "hotkeys": {
    "equation": "Ctrl-E",
    "itemize": "Ctrl-I"
   },
   "labels_anchors": false,
   "latex_user_defs": false,
   "report_style_numbering": false,
   "user_envs_cfg": false
  },
  "nteract": {
   "version": "0.8.4"
  }
 },
 "nbformat": 4,
 "nbformat_minor": 1
}
